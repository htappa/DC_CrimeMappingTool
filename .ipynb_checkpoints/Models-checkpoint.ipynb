{
 "cells": [
  {
   "cell_type": "markdown",
   "metadata": {},
   "source": [
    "# **Crime Risk in DC**"
   ]
  },
  {
   "cell_type": "markdown",
   "metadata": {},
   "source": [
    "### Packages"
   ]
  },
  {
   "cell_type": "code",
   "execution_count": 1,
   "metadata": {},
   "outputs": [],
   "source": [
    "import requests\n",
    "import json\n",
    "import pandas as pd\n",
    "import seaborn as sns\n",
    "import matplotlib.pyplot as plt"
   ]
  },
  {
   "cell_type": "markdown",
   "metadata": {},
   "source": [
    "### Read in API data (2019)\n",
    "API Website: https://opendata.dc.gov/datasets/crime-incidents-in-2019/geoservice"
   ]
  },
  {
   "cell_type": "code",
   "execution_count": 2,
   "metadata": {},
   "outputs": [
    {
     "name": "stdout",
     "output_type": "stream",
     "text": [
      "status code: 200\n"
     ]
    }
   ],
   "source": [
    "response = requests.get('https://opendata.arcgis.com/datasets/f08294e5286141c293e9202fcd3e8b57_1.geojson')\n",
    "print('status code:', response.status_code)\n",
    "\n",
    "# def jprint(obj):\n",
    "#     # create a formatted string of the Python JSON object\n",
    "#     text = json.dumps(obj, sort_keys=True, indent=4)\n",
    "#     print(text)\n",
    "# jprint(response.json())"
   ]
  },
  {
   "cell_type": "markdown",
   "metadata": {},
   "source": [
    "### Read in CSV data (2017-2019)"
   ]
  },
  {
   "cell_type": "code",
   "execution_count": 49,
   "metadata": {},
   "outputs": [],
   "source": [
    "df = pd.read_csv('data/dc-crimes-search-results.csv')\n",
    "pd.set_option('display.max_columns', 50)"
   ]
  },
  {
   "cell_type": "code",
   "execution_count": 5,
   "metadata": {},
   "outputs": [
    {
     "data": {
      "text/html": [
       "<div>\n",
       "<style scoped>\n",
       "    .dataframe tbody tr th:only-of-type {\n",
       "        vertical-align: middle;\n",
       "    }\n",
       "\n",
       "    .dataframe tbody tr th {\n",
       "        vertical-align: top;\n",
       "    }\n",
       "\n",
       "    .dataframe thead th {\n",
       "        text-align: right;\n",
       "    }\n",
       "</style>\n",
       "<table border=\"1\" class=\"dataframe\">\n",
       "  <thead>\n",
       "    <tr style=\"text-align: right;\">\n",
       "      <th></th>\n",
       "      <th>NEIGHBORHOOD_CLUSTER</th>\n",
       "      <th>CENSUS_TRACT</th>\n",
       "      <th>offensegroup</th>\n",
       "      <th>LONGITUDE</th>\n",
       "      <th>END_DATE</th>\n",
       "      <th>offense-text</th>\n",
       "      <th>SHIFT</th>\n",
       "      <th>YBLOCK</th>\n",
       "      <th>DISTRICT</th>\n",
       "      <th>WARD</th>\n",
       "      <th>YEAR</th>\n",
       "      <th>offensekey</th>\n",
       "      <th>BID</th>\n",
       "      <th>sector</th>\n",
       "      <th>PSA</th>\n",
       "      <th>ucr-rank</th>\n",
       "      <th>BLOCK_GROUP</th>\n",
       "      <th>VOTING_PRECINCT</th>\n",
       "      <th>XBLOCK</th>\n",
       "      <th>BLOCK</th>\n",
       "      <th>START_DATE</th>\n",
       "      <th>CCN</th>\n",
       "      <th>OFFENSE</th>\n",
       "      <th>OCTO_RECORD_ID</th>\n",
       "      <th>ANC</th>\n",
       "      <th>REPORT_DAT</th>\n",
       "      <th>METHOD</th>\n",
       "      <th>location</th>\n",
       "      <th>LATITUDE</th>\n",
       "    </tr>\n",
       "  </thead>\n",
       "  <tbody>\n",
       "    <tr>\n",
       "      <th>0</th>\n",
       "      <td>cluster 2</td>\n",
       "      <td>3100.0</td>\n",
       "      <td>property</td>\n",
       "      <td>-77.024256</td>\n",
       "      <td>2017-10-07T16:30:39.000</td>\n",
       "      <td>theft f/auto</td>\n",
       "      <td>evening</td>\n",
       "      <td>140906.0</td>\n",
       "      <td>4.0</td>\n",
       "      <td>1</td>\n",
       "      <td>2017</td>\n",
       "      <td>property|theft f/auto</td>\n",
       "      <td>NaN</td>\n",
       "      <td>4D3</td>\n",
       "      <td>409.0</td>\n",
       "      <td>7</td>\n",
       "      <td>003100 1</td>\n",
       "      <td>precinct 43</td>\n",
       "      <td>397897.0</td>\n",
       "      <td>3650 - 3699 block of georgia avenue nw</td>\n",
       "      <td>2017-10-07T12:30:46.000</td>\n",
       "      <td>17174693</td>\n",
       "      <td>theft f/auto</td>\n",
       "      <td>17174693-01</td>\n",
       "      <td>1A</td>\n",
       "      <td>2017-10-11T01:24:06.000Z</td>\n",
       "      <td>others</td>\n",
       "      <td>38.936044885337125,-77.024258336912652</td>\n",
       "      <td>38.936037</td>\n",
       "    </tr>\n",
       "    <tr>\n",
       "      <th>1</th>\n",
       "      <td>cluster 12</td>\n",
       "      <td>1200.0</td>\n",
       "      <td>property</td>\n",
       "      <td>-77.063918</td>\n",
       "      <td>2017-10-08T20:10:42.000</td>\n",
       "      <td>theft/other</td>\n",
       "      <td>evening</td>\n",
       "      <td>141888.0</td>\n",
       "      <td>2.0</td>\n",
       "      <td>3</td>\n",
       "      <td>2017</td>\n",
       "      <td>property|theft/other</td>\n",
       "      <td>NaN</td>\n",
       "      <td>2D1</td>\n",
       "      <td>203.0</td>\n",
       "      <td>6</td>\n",
       "      <td>001200 4</td>\n",
       "      <td>precinct 33</td>\n",
       "      <td>394459.0</td>\n",
       "      <td>4200 - 4399 block of connecticut avenue nw</td>\n",
       "      <td>2017-10-08T19:47:36.000</td>\n",
       "      <td>17174726</td>\n",
       "      <td>theft/other</td>\n",
       "      <td>17174726-01</td>\n",
       "      <td>3F</td>\n",
       "      <td>2017-10-09T00:10:44.000Z</td>\n",
       "      <td>others</td>\n",
       "      <td>38.944876069581561,-77.063920231371171</td>\n",
       "      <td>38.944868</td>\n",
       "    </tr>\n",
       "    <tr>\n",
       "      <th>2</th>\n",
       "      <td>cluster 26</td>\n",
       "      <td>6900.0</td>\n",
       "      <td>property</td>\n",
       "      <td>-76.989281</td>\n",
       "      <td>2017-10-08T20:29:19.000</td>\n",
       "      <td>theft/other</td>\n",
       "      <td>evening</td>\n",
       "      <td>135140.0</td>\n",
       "      <td>1.0</td>\n",
       "      <td>6</td>\n",
       "      <td>2017</td>\n",
       "      <td>property|theft/other</td>\n",
       "      <td>NaN</td>\n",
       "      <td>1D2</td>\n",
       "      <td>107.0</td>\n",
       "      <td>6</td>\n",
       "      <td>006900 1</td>\n",
       "      <td>precinct 91</td>\n",
       "      <td>400930.0</td>\n",
       "      <td>1200 - 1299 block of d street se</td>\n",
       "      <td>2017-10-08T19:59:26.000</td>\n",
       "      <td>17174738</td>\n",
       "      <td>theft/other</td>\n",
       "      <td>17174738-01</td>\n",
       "      <td>6B</td>\n",
       "      <td>2017-10-10T02:02:49.000Z</td>\n",
       "      <td>others</td>\n",
       "      <td>38.884104802510656,-76.989283449464125</td>\n",
       "      <td>38.884097</td>\n",
       "    </tr>\n",
       "    <tr>\n",
       "      <th>3</th>\n",
       "      <td>cluster 39</td>\n",
       "      <td>10900.0</td>\n",
       "      <td>property</td>\n",
       "      <td>-77.001750</td>\n",
       "      <td>2017-10-08T23:42:14.000</td>\n",
       "      <td>theft/other</td>\n",
       "      <td>midnight</td>\n",
       "      <td>128205.0</td>\n",
       "      <td>7.0</td>\n",
       "      <td>8</td>\n",
       "      <td>2017</td>\n",
       "      <td>property|theft/other</td>\n",
       "      <td>NaN</td>\n",
       "      <td>7D3</td>\n",
       "      <td>708.0</td>\n",
       "      <td>6</td>\n",
       "      <td>010900 2</td>\n",
       "      <td>precinct 125</td>\n",
       "      <td>399848.0</td>\n",
       "      <td>4600 - 4799 block of south capitol street</td>\n",
       "      <td>2017-10-08T23:04:37.000</td>\n",
       "      <td>17174818</td>\n",
       "      <td>theft/other</td>\n",
       "      <td>17174818-01</td>\n",
       "      <td>8D</td>\n",
       "      <td>2017-10-09T03:42:16.000Z</td>\n",
       "      <td>others</td>\n",
       "      <td>38.821631799016011,-77.001752641497887</td>\n",
       "      <td>38.821624</td>\n",
       "    </tr>\n",
       "    <tr>\n",
       "      <th>4</th>\n",
       "      <td>cluster 33</td>\n",
       "      <td>7808.0</td>\n",
       "      <td>property</td>\n",
       "      <td>-76.927013</td>\n",
       "      <td>2017-10-08T21:50:07.000</td>\n",
       "      <td>theft f/auto</td>\n",
       "      <td>midnight</td>\n",
       "      <td>135883.0</td>\n",
       "      <td>6.0</td>\n",
       "      <td>7</td>\n",
       "      <td>2017</td>\n",
       "      <td>property|theft f/auto</td>\n",
       "      <td>NaN</td>\n",
       "      <td>6D1</td>\n",
       "      <td>608.0</td>\n",
       "      <td>7</td>\n",
       "      <td>007808 1</td>\n",
       "      <td>precinct 96</td>\n",
       "      <td>406332.0</td>\n",
       "      <td>5200 - 5299 block of ames street ne</td>\n",
       "      <td>2017-10-08T21:45:00.000</td>\n",
       "      <td>17174836</td>\n",
       "      <td>theft f/auto</td>\n",
       "      <td>17174836-01</td>\n",
       "      <td>7C</td>\n",
       "      <td>2017-10-09T04:12:16.000Z</td>\n",
       "      <td>others</td>\n",
       "      <td>38.890775720497125,-76.927015181332635</td>\n",
       "      <td>38.890768</td>\n",
       "    </tr>\n",
       "  </tbody>\n",
       "</table>\n",
       "</div>"
      ],
      "text/plain": [
       "  NEIGHBORHOOD_CLUSTER  CENSUS_TRACT offensegroup  LONGITUDE  \\\n",
       "0            cluster 2        3100.0     property -77.024256   \n",
       "1           cluster 12        1200.0     property -77.063918   \n",
       "2           cluster 26        6900.0     property -76.989281   \n",
       "3           cluster 39       10900.0     property -77.001750   \n",
       "4           cluster 33        7808.0     property -76.927013   \n",
       "\n",
       "                  END_DATE  offense-text     SHIFT    YBLOCK  DISTRICT  WARD  \\\n",
       "0  2017-10-07T16:30:39.000  theft f/auto   evening  140906.0       4.0     1   \n",
       "1  2017-10-08T20:10:42.000   theft/other   evening  141888.0       2.0     3   \n",
       "2  2017-10-08T20:29:19.000   theft/other   evening  135140.0       1.0     6   \n",
       "3  2017-10-08T23:42:14.000   theft/other  midnight  128205.0       7.0     8   \n",
       "4  2017-10-08T21:50:07.000  theft f/auto  midnight  135883.0       6.0     7   \n",
       "\n",
       "   YEAR             offensekey  BID sector    PSA  ucr-rank BLOCK_GROUP  \\\n",
       "0  2017  property|theft f/auto  NaN    4D3  409.0         7    003100 1   \n",
       "1  2017   property|theft/other  NaN    2D1  203.0         6    001200 4   \n",
       "2  2017   property|theft/other  NaN    1D2  107.0         6    006900 1   \n",
       "3  2017   property|theft/other  NaN    7D3  708.0         6    010900 2   \n",
       "4  2017  property|theft f/auto  NaN    6D1  608.0         7    007808 1   \n",
       "\n",
       "  VOTING_PRECINCT    XBLOCK                                       BLOCK  \\\n",
       "0     precinct 43  397897.0      3650 - 3699 block of georgia avenue nw   \n",
       "1     precinct 33  394459.0  4200 - 4399 block of connecticut avenue nw   \n",
       "2     precinct 91  400930.0            1200 - 1299 block of d street se   \n",
       "3    precinct 125  399848.0   4600 - 4799 block of south capitol street   \n",
       "4     precinct 96  406332.0         5200 - 5299 block of ames street ne   \n",
       "\n",
       "                START_DATE       CCN       OFFENSE OCTO_RECORD_ID ANC  \\\n",
       "0  2017-10-07T12:30:46.000  17174693  theft f/auto    17174693-01  1A   \n",
       "1  2017-10-08T19:47:36.000  17174726   theft/other    17174726-01  3F   \n",
       "2  2017-10-08T19:59:26.000  17174738   theft/other    17174738-01  6B   \n",
       "3  2017-10-08T23:04:37.000  17174818   theft/other    17174818-01  8D   \n",
       "4  2017-10-08T21:45:00.000  17174836  theft f/auto    17174836-01  7C   \n",
       "\n",
       "                 REPORT_DAT  METHOD                                location  \\\n",
       "0  2017-10-11T01:24:06.000Z  others  38.936044885337125,-77.024258336912652   \n",
       "1  2017-10-09T00:10:44.000Z  others  38.944876069581561,-77.063920231371171   \n",
       "2  2017-10-10T02:02:49.000Z  others  38.884104802510656,-76.989283449464125   \n",
       "3  2017-10-09T03:42:16.000Z  others  38.821631799016011,-77.001752641497887   \n",
       "4  2017-10-09T04:12:16.000Z  others  38.890775720497125,-76.927015181332635   \n",
       "\n",
       "    LATITUDE  \n",
       "0  38.936037  \n",
       "1  38.944868  \n",
       "2  38.884097  \n",
       "3  38.821624  \n",
       "4  38.890768  "
      ]
     },
     "execution_count": 5,
     "metadata": {},
     "output_type": "execute_result"
    }
   ],
   "source": [
    "df.head()"
   ]
  },
  {
   "cell_type": "markdown",
   "metadata": {},
   "source": [
    "### Clean CSV Data"
   ]
  },
  {
   "cell_type": "code",
   "execution_count": 50,
   "metadata": {},
   "outputs": [],
   "source": [
    "columns_remove = ['NEIGHBORHOOD_CLUSTER', 'CENSUS_TRACT', 'offense-text', 'YBLOCK', 'DISTRICT', 'offensekey', 'sector', \n",
    "                  'PSA', 'ucr-rank', 'BLOCK_GROUP', 'VOTING_PRECINCT', 'XBLOCK', 'OCTO_RECORD_ID', 'ANC', 'location']\n",
    "\n",
    "df = df.drop(columns_remove, axis=1)\n",
    "\n",
    "df = df[['CCN', 'START_DATE', 'END_DATE', 'REPORT_DAT', 'YEAR', 'SHIFT', 'WARD', 'BID', 'BLOCK', 'offensegroup', 'OFFENSE', \n",
    "         'METHOD', 'LATITUDE', 'LONGITUDE']]"
   ]
  },
  {
   "cell_type": "code",
   "execution_count": 13,
   "metadata": {},
   "outputs": [
    {
     "data": {
      "text/html": [
       "<div>\n",
       "<style scoped>\n",
       "    .dataframe tbody tr th:only-of-type {\n",
       "        vertical-align: middle;\n",
       "    }\n",
       "\n",
       "    .dataframe tbody tr th {\n",
       "        vertical-align: top;\n",
       "    }\n",
       "\n",
       "    .dataframe thead th {\n",
       "        text-align: right;\n",
       "    }\n",
       "</style>\n",
       "<table border=\"1\" class=\"dataframe\">\n",
       "  <thead>\n",
       "    <tr style=\"text-align: right;\">\n",
       "      <th></th>\n",
       "      <th>CCN</th>\n",
       "      <th>START_DATE</th>\n",
       "      <th>END_DATE</th>\n",
       "      <th>REPORT_DAT</th>\n",
       "      <th>YEAR</th>\n",
       "      <th>SHIFT</th>\n",
       "      <th>WARD</th>\n",
       "      <th>BID</th>\n",
       "      <th>BLOCK</th>\n",
       "      <th>offensegroup</th>\n",
       "      <th>OFFENSE</th>\n",
       "      <th>METHOD</th>\n",
       "      <th>LATITUDE</th>\n",
       "      <th>LONGITUDE</th>\n",
       "    </tr>\n",
       "  </thead>\n",
       "  <tbody>\n",
       "    <tr>\n",
       "      <th>0</th>\n",
       "      <td>17174693</td>\n",
       "      <td>2017-10-07T12:30:46.000</td>\n",
       "      <td>2017-10-07T16:30:39.000</td>\n",
       "      <td>2017-10-11T01:24:06.000Z</td>\n",
       "      <td>2017</td>\n",
       "      <td>evening</td>\n",
       "      <td>1</td>\n",
       "      <td>NaN</td>\n",
       "      <td>3650 - 3699 block of georgia avenue nw</td>\n",
       "      <td>property</td>\n",
       "      <td>theft f/auto</td>\n",
       "      <td>others</td>\n",
       "      <td>38.936037</td>\n",
       "      <td>-77.024256</td>\n",
       "    </tr>\n",
       "    <tr>\n",
       "      <th>1</th>\n",
       "      <td>17174726</td>\n",
       "      <td>2017-10-08T19:47:36.000</td>\n",
       "      <td>2017-10-08T20:10:42.000</td>\n",
       "      <td>2017-10-09T00:10:44.000Z</td>\n",
       "      <td>2017</td>\n",
       "      <td>evening</td>\n",
       "      <td>3</td>\n",
       "      <td>NaN</td>\n",
       "      <td>4200 - 4399 block of connecticut avenue nw</td>\n",
       "      <td>property</td>\n",
       "      <td>theft/other</td>\n",
       "      <td>others</td>\n",
       "      <td>38.944868</td>\n",
       "      <td>-77.063918</td>\n",
       "    </tr>\n",
       "    <tr>\n",
       "      <th>2</th>\n",
       "      <td>17174738</td>\n",
       "      <td>2017-10-08T19:59:26.000</td>\n",
       "      <td>2017-10-08T20:29:19.000</td>\n",
       "      <td>2017-10-10T02:02:49.000Z</td>\n",
       "      <td>2017</td>\n",
       "      <td>evening</td>\n",
       "      <td>6</td>\n",
       "      <td>NaN</td>\n",
       "      <td>1200 - 1299 block of d street se</td>\n",
       "      <td>property</td>\n",
       "      <td>theft/other</td>\n",
       "      <td>others</td>\n",
       "      <td>38.884097</td>\n",
       "      <td>-76.989281</td>\n",
       "    </tr>\n",
       "    <tr>\n",
       "      <th>3</th>\n",
       "      <td>17174818</td>\n",
       "      <td>2017-10-08T23:04:37.000</td>\n",
       "      <td>2017-10-08T23:42:14.000</td>\n",
       "      <td>2017-10-09T03:42:16.000Z</td>\n",
       "      <td>2017</td>\n",
       "      <td>midnight</td>\n",
       "      <td>8</td>\n",
       "      <td>NaN</td>\n",
       "      <td>4600 - 4799 block of south capitol street</td>\n",
       "      <td>property</td>\n",
       "      <td>theft/other</td>\n",
       "      <td>others</td>\n",
       "      <td>38.821624</td>\n",
       "      <td>-77.001750</td>\n",
       "    </tr>\n",
       "    <tr>\n",
       "      <th>4</th>\n",
       "      <td>17174836</td>\n",
       "      <td>2017-10-08T21:45:00.000</td>\n",
       "      <td>2017-10-08T21:50:07.000</td>\n",
       "      <td>2017-10-09T04:12:16.000Z</td>\n",
       "      <td>2017</td>\n",
       "      <td>midnight</td>\n",
       "      <td>7</td>\n",
       "      <td>NaN</td>\n",
       "      <td>5200 - 5299 block of ames street ne</td>\n",
       "      <td>property</td>\n",
       "      <td>theft f/auto</td>\n",
       "      <td>others</td>\n",
       "      <td>38.890768</td>\n",
       "      <td>-76.927013</td>\n",
       "    </tr>\n",
       "  </tbody>\n",
       "</table>\n",
       "</div>"
      ],
      "text/plain": [
       "        CCN               START_DATE                 END_DATE  \\\n",
       "0  17174693  2017-10-07T12:30:46.000  2017-10-07T16:30:39.000   \n",
       "1  17174726  2017-10-08T19:47:36.000  2017-10-08T20:10:42.000   \n",
       "2  17174738  2017-10-08T19:59:26.000  2017-10-08T20:29:19.000   \n",
       "3  17174818  2017-10-08T23:04:37.000  2017-10-08T23:42:14.000   \n",
       "4  17174836  2017-10-08T21:45:00.000  2017-10-08T21:50:07.000   \n",
       "\n",
       "                 REPORT_DAT  YEAR     SHIFT  WARD  BID  \\\n",
       "0  2017-10-11T01:24:06.000Z  2017   evening     1  NaN   \n",
       "1  2017-10-09T00:10:44.000Z  2017   evening     3  NaN   \n",
       "2  2017-10-10T02:02:49.000Z  2017   evening     6  NaN   \n",
       "3  2017-10-09T03:42:16.000Z  2017  midnight     8  NaN   \n",
       "4  2017-10-09T04:12:16.000Z  2017  midnight     7  NaN   \n",
       "\n",
       "                                        BLOCK offensegroup       OFFENSE  \\\n",
       "0      3650 - 3699 block of georgia avenue nw     property  theft f/auto   \n",
       "1  4200 - 4399 block of connecticut avenue nw     property   theft/other   \n",
       "2            1200 - 1299 block of d street se     property   theft/other   \n",
       "3   4600 - 4799 block of south capitol street     property   theft/other   \n",
       "4         5200 - 5299 block of ames street ne     property  theft f/auto   \n",
       "\n",
       "   METHOD   LATITUDE  LONGITUDE  \n",
       "0  others  38.936037 -77.024256  \n",
       "1  others  38.944868 -77.063918  \n",
       "2  others  38.884097 -76.989281  \n",
       "3  others  38.821624 -77.001750  \n",
       "4  others  38.890768 -76.927013  "
      ]
     },
     "execution_count": 13,
     "metadata": {},
     "output_type": "execute_result"
    }
   ],
   "source": [
    "df.head()"
   ]
  },
  {
   "cell_type": "code",
   "execution_count": 74,
   "metadata": {},
   "outputs": [
    {
     "data": {
      "text/html": [
       "<div>\n",
       "<style scoped>\n",
       "    .dataframe tbody tr th:only-of-type {\n",
       "        vertical-align: middle;\n",
       "    }\n",
       "\n",
       "    .dataframe tbody tr th {\n",
       "        vertical-align: top;\n",
       "    }\n",
       "\n",
       "    .dataframe thead th {\n",
       "        text-align: right;\n",
       "    }\n",
       "</style>\n",
       "<table border=\"1\" class=\"dataframe\">\n",
       "  <thead>\n",
       "    <tr style=\"text-align: right;\">\n",
       "      <th></th>\n",
       "      <th>Year</th>\n",
       "    </tr>\n",
       "  </thead>\n",
       "  <tbody>\n",
       "    <tr>\n",
       "      <th>2018</th>\n",
       "      <td>33783</td>\n",
       "    </tr>\n",
       "    <tr>\n",
       "      <th>2019</th>\n",
       "      <td>24936</td>\n",
       "    </tr>\n",
       "    <tr>\n",
       "      <th>2017</th>\n",
       "      <td>7902</td>\n",
       "    </tr>\n",
       "  </tbody>\n",
       "</table>\n",
       "</div>"
      ],
      "text/plain": [
       "       Year\n",
       "2018  33783\n",
       "2019  24936\n",
       "2017   7902"
      ]
     },
     "execution_count": 74,
     "metadata": {},
     "output_type": "execute_result"
    }
   ],
   "source": [
    "# Number of crimes by year\n",
    "\n",
    "year_df = pd.DataFrame(df.YEAR.value_counts())\n",
    "year_df = year_df.rename(columns={\"YEAR\": \"Year\"})\n",
    "year_df"
   ]
  },
  {
   "cell_type": "code",
   "execution_count": 60,
   "metadata": {},
   "outputs": [
    {
     "data": {
      "text/plain": [
       "Text(-123.07499999999999, 0.5, 'Offense Type')"
      ]
     },
     "execution_count": 60,
     "metadata": {},
     "output_type": "execute_result"
    },
    {
     "data": {
      "image/png": "[encoded data removed]",
      "text/plain": [
       "<Figure size 864x576 with 1 Axes>"
      ]
     },
     "metadata": {
      "needs_background": "light"
     },
     "output_type": "display_data"
    }
   ],
   "source": [
    "# Categorical plot for count of offense type\n",
    "\n",
    "color = ['#0033cc']\n",
    "sns.catplot(y='OFFENSE', kind='count', height=8, aspect=1.5, order=df.OFFENSE.value_counts().index, \n",
    "            data=df, palette=sns.color_palette(color))\n",
    "\n",
    "plt.title('Total Crimes by Offense Type', fontsize=20)\n",
    "plt.xticks(size=10)\n",
    "plt.yticks(size=10)\n",
    "plt.xlabel('Count', fontsize=15)\n",
    "plt.ylabel('Offense Type', fontsize=15)"
   ]
  },
  {
   "cell_type": "code",
   "execution_count": 71,
   "metadata": {},
   "outputs": [
    {
     "data": {
      "text/html": [
       "<div>\n",
       "<style scoped>\n",
       "    .dataframe tbody tr th:only-of-type {\n",
       "        vertical-align: middle;\n",
       "    }\n",
       "\n",
       "    .dataframe tbody tr th {\n",
       "        vertical-align: top;\n",
       "    }\n",
       "\n",
       "    .dataframe thead th {\n",
       "        text-align: right;\n",
       "    }\n",
       "</style>\n",
       "<table border=\"1\" class=\"dataframe\">\n",
       "  <thead>\n",
       "    <tr style=\"text-align: right;\">\n",
       "      <th></th>\n",
       "      <th>Weapon Used</th>\n",
       "    </tr>\n",
       "  </thead>\n",
       "  <tbody>\n",
       "    <tr>\n",
       "      <th>others</th>\n",
       "      <td>61927</td>\n",
       "    </tr>\n",
       "    <tr>\n",
       "      <th>gun</th>\n",
       "      <td>3223</td>\n",
       "    </tr>\n",
       "    <tr>\n",
       "      <th>knife</th>\n",
       "      <td>1471</td>\n",
       "    </tr>\n",
       "  </tbody>\n",
       "</table>\n",
       "</div>"
      ],
      "text/plain": [
       "        Weapon Used\n",
       "others        61927\n",
       "gun            3223\n",
       "knife          1471"
      ]
     },
     "execution_count": 71,
     "metadata": {},
     "output_type": "execute_result"
    }
   ],
   "source": [
    "# Type of weapon used in attack\n",
    "\n",
    "method_df = pd.DataFrame(df.METHOD.value_counts())\n",
    "method_df = method_df.rename(columns={\"METHOD\": \"Weapon Used\"})\n",
    "method_df"
   ]
  },
  {
   "cell_type": "code",
   "execution_count": 58,
   "metadata": {},
   "outputs": [
    {
     "data": {
      "text/plain": [
       "<matplotlib.legend.Legend at 0x1a908e4080>"
      ]
     },
     "execution_count": 58,
     "metadata": {},
     "output_type": "execute_result"
    },
    {
     "data": {
      "image/png": "[encoded data removed]",
      "text/plain": [
       "<Figure size 864x576 with 1 Axes>"
      ]
     },
     "metadata": {
      "needs_background": "light"
     },
     "output_type": "display_data"
    }
   ],
   "source": [
    "# Categorical plot for count of total crimes by neighborhood and time of day\n",
    "\n",
    "sns.catplot(x='BID', hue='SHIFT', kind='count', height=8, aspect=1.5, order=df.BID.value_counts().index, \n",
    "            data=df, legend=False)\n",
    "\n",
    "plt.title('Total Crimes by Neighborhood and Time of Day', fontsize=20)\n",
    "\n",
    "plt.xticks(size=10, rotation=90)\n",
    "plt.yticks(size=10)\n",
    "plt.xlabel('Neighborhood', fontsize=15)\n",
    "plt.ylabel('Count', fontsize=15)\n",
    "plt.legend(title='Time of Day', loc='right')"
   ]
  },
  {
   "cell_type": "code",
   "execution_count": 77,
   "metadata": {},
   "outputs": [
    {
     "data": {
      "text/plain": [
       "<matplotlib.legend.Legend at 0x1a8da6bf98>"
      ]
     },
     "execution_count": 77,
     "metadata": {},
     "output_type": "execute_result"
    },
    {
     "data": {
      "image/png": "[encoded data removed]",
      "text/plain": [
       "<Figure size 864x576 with 1 Axes>"
      ]
     },
     "metadata": {
      "needs_background": "light"
     },
     "output_type": "display_data"
    }
   ],
   "source": [
    "# Categorical plot for count of total crimes by ward and time of day\n",
    "\n",
    "sns.catplot(x='WARD', hue='SHIFT', kind='count', height=8, aspect=1.5, order=df.WARD.value_counts().index, \n",
    "            data=df, legend=False)\n",
    "\n",
    "plt.title('Total Crimes by Ward and Time of Day', fontsize=20)\n",
    "\n",
    "plt.xticks(size=10)\n",
    "plt.yticks(size=10)\n",
    "plt.xlabel('Ward', fontsize=15)\n",
    "plt.ylabel('Count', fontsize=15)\n",
    "plt.legend(title='Time of Day', loc='right')"
   ]
  },
  {
   "cell_type": "code",
   "execution_count": 87,
   "metadata": {},
   "outputs": [],
   "source": [
    "# Map of crimes by ward"
   ]
  },
  {
   "cell_type": "code",
   "execution_count": 86,
   "metadata": {},
   "outputs": [
    {
     "data": {
      "text/html": [
       "\n",
       "<div class='tableauPlaceholder' id='viz1570313986891' style='position: relative'>\n",
       "    <noscript>\n",
       "        <a href='#'>\n",
       "            <img alt=' ' src='https:&#47;&#47;public.tableau.com&#47;static&#47;images&#47;dc&#47;dc_crimes_map&#47;DCCrimesbyWard2017-2019&#47;1_rss.png' style='border: none' />\n",
       "        </a>\n",
       "    </noscript>\n",
       "    <object class='tableauViz'  style='display:none;'>\n",
       "        <param name='host_url' value='https%3A%2F%2Fpublic.tableau.com%2F' /> \n",
       "        <param name='embed_code_version' value='3' /> \n",
       "        <param name='site_root' value='' />\n",
       "        <param name='name' value='dc_crimes_map&#47;DCCrimesbyWard2017-2019' />\n",
       "        <param name='tabs' value='no' />\n",
       "        <param name='toolbar' value='yes' />\n",
       "        <param name='static_image' value='https:&#47;&#47;public.tableau.com&#47;static&#47;images&#47;dc&#47;dc_crimes_map&#47;DCCrimesbyWard2017-2019&#47;1.png' /> \n",
       "        <param name='animate_transition' value='yes' />\n",
       "        <param name='display_static_image' value='yes' />\n",
       "        <param name='display_spinner' value='yes' />\n",
       "        <param name='display_overlay' value='yes' />\n",
       "        <param name='display_count' value='yes' />\n",
       "        <param name='filter' value='publish=yes' />\n",
       "    </object>              \n",
       "    <script type='text/javascript'>                    \n",
       "        var divElement = document.getElementById('viz1570313986891');                    \n",
       "        var vizElement = divElement.getElementsByTagName('object')[0];                    \n",
       "        vizElement.style.width='100%';vizElement.style.height=(divElement.offsetWidth*0.75)+'px';                    \n",
       "        var scriptElement = document.createElement('script');                    \n",
       "        scriptElement.src = 'https://public.tableau.com/javascripts/api/viz_v1.js';                    \n",
       "        vizElement.parentNode.insertBefore(scriptElement, vizElement);                \n",
       "    </script>\n",
       "</div>  \n"
      ],
      "text/plain": [
       "<IPython.core.display.HTML object>"
      ]
     },
     "metadata": {},
     "output_type": "display_data"
    }
   ],
   "source": [
    "%%HTML \n",
    "\n",
    "<div class='tableauPlaceholder' id='viz1570313986891' style='position: relative'>\n",
    "    <noscript>\n",
    "        <a href='#'>\n",
    "            <img alt=' ' src='https:&#47;&#47;public.tableau.com&#47;static&#47;images&#47;dc&#47;dc_crimes_map&#47;DCCrimesbyWard2017-2019&#47;1_rss.png' style='border: none' />\n",
    "        </a>\n",
    "    </noscript>\n",
    "    <object class='tableauViz'  style='display:none;'>\n",
    "        <param name='host_url' value='https%3A%2F%2Fpublic.tableau.com%2F' /> \n",
    "        <param name='embed_code_version' value='3' /> \n",
    "        <param name='site_root' value='' />\n",
    "        <param name='name' value='dc_crimes_map&#47;DCCrimesbyWard2017-2019' />\n",
    "        <param name='tabs' value='no' />\n",
    "        <param name='toolbar' value='yes' />\n",
    "        <param name='static_image' value='https:&#47;&#47;public.tableau.com&#47;static&#47;images&#47;dc&#47;dc_crimes_map&#47;DCCrimesbyWard2017-2019&#47;1.png' /> \n",
    "        <param name='animate_transition' value='yes' />\n",
    "        <param name='display_static_image' value='yes' />\n",
    "        <param name='display_spinner' value='yes' />\n",
    "        <param name='display_overlay' value='yes' />\n",
    "        <param name='display_count' value='yes' />\n",
    "        <param name='filter' value='publish=yes' />\n",
    "    </object>              \n",
    "    <script type='text/javascript'>                    \n",
    "        var divElement = document.getElementById('viz1570313986891');                    \n",
    "        var vizElement = divElement.getElementsByTagName('object')[0];                    \n",
    "        vizElement.style.width='100%';vizElement.style.height=(divElement.offsetWidth*0.75)+'px';                    \n",
    "        var scriptElement = document.createElement('script');                    \n",
    "        scriptElement.src = 'https://public.tableau.com/javascripts/api/viz_v1.js';                    \n",
    "        vizElement.parentNode.insertBefore(scriptElement, vizElement);                \n",
    "    </script>\n",
    "</div>  "
   ]
  },
  {
   "cell_type": "code",
   "execution_count": null,
   "metadata": {},
   "outputs": [],
   "source": []
  }
 ],
 "metadata": {
  "kernelspec": {
   "display_name": "Python 3",
   "language": "python",
   "name": "python3"
  },
  "language_info": {
   "codemirror_mode": {
    "name": "ipython",
    "version": 3
   },
   "file_extension": ".py",
   "mimetype": "text/x-python",
   "name": "python",
   "nbconvert_exporter": "python",
   "pygments_lexer": "ipython3",
   "version": "3.7.3"
  }
 },
 "nbformat": 4,
 "nbformat_minor": 2
}
