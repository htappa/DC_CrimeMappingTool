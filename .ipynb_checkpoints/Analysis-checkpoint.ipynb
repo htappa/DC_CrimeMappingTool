{
 "cells": [
  {
   "cell_type": "markdown",
   "metadata": {},
   "source": [
    "# **Crime Risk in DC - Analysis**"
   ]
  },
  {
   "cell_type": "markdown",
   "metadata": {},
   "source": [
    "### Packages"
   ]
  },
  {
   "cell_type": "code",
   "execution_count": 1,
   "metadata": {},
   "outputs": [],
   "source": [
    "import requests\n",
    "import json\n",
    "import pandas as pd\n",
    "import geopandas as gpd\n",
    "import seaborn as sns\n",
    "import matplotlib.pyplot as plt\n",
    "\n",
    "pd.set_option('display.max_columns', 100)"
   ]
  },
  {
   "cell_type": "markdown",
   "metadata": {},
   "source": [
    "### Read in API data (2017-2019)"
   ]
  },
  {
   "cell_type": "code",
   "execution_count": 2,
   "metadata": {},
   "outputs": [],
   "source": [
    "url_crime = 'https://opendata.arcgis.com/datasets/f08294e5286141c293e9202fcd3e8b57_1.geojson'\n",
    "df_crime = gpd.read_file(url_crime)"
   ]
  },
  {
   "cell_type": "code",
   "execution_count": 3,
   "metadata": {},
   "outputs": [],
   "source": [
    "url_pop = 'https://opendata.arcgis.com/datasets/c143846b7bf4438c954c5bb28e5d1a21_2.geojson'\n",
    "df_pop = gpd.read_file(url_pop)"
   ]
  },
  {
   "cell_type": "markdown",
   "metadata": {},
   "source": [
    "### Clean API Data"
   ]
  },
  {
   "cell_type": "code",
   "execution_count": 4,
   "metadata": {},
   "outputs": [],
   "source": [
    "df_crime = df_crime[['CCN', 'START_DATE', 'END_DATE', 'REPORT_DAT', 'SHIFT', 'WARD', 'BLOCK_GROUP', 'CENSUS_TRACT', \n",
    "                     'BLOCK', 'OFFENSE', 'METHOD', 'LATITUDE', 'LONGITUDE', 'OBJECTID', 'OCTO_RECORD_ID', 'geometry']]"
   ]
  },
  {
   "cell_type": "code",
   "execution_count": 5,
   "metadata": {},
   "outputs": [],
   "source": [
    "df_pop = df_pop[['TRACT', 'BLKGRP', 'P0010001', 'SHAPE_Length', 'SHAPE_Area', 'geometry']]\n",
    "df_pop = df_pop.rename(columns={'P0010001': 'Population'})"
   ]
  },
  {
   "cell_type": "markdown",
   "metadata": {},
   "source": [
    "### View API Data"
   ]
  },
  {
   "cell_type": "code",
   "execution_count": 6,
   "metadata": {},
   "outputs": [
    {
     "data": {
      "text/html": [
       "<div>\n",
       "<style scoped>\n",
       "    .dataframe tbody tr th:only-of-type {\n",
       "        vertical-align: middle;\n",
       "    }\n",
       "\n",
       "    .dataframe tbody tr th {\n",
       "        vertical-align: top;\n",
       "    }\n",
       "\n",
       "    .dataframe thead th {\n",
       "        text-align: right;\n",
       "    }\n",
       "</style>\n",
       "<table border=\"1\" class=\"dataframe\">\n",
       "  <thead>\n",
       "    <tr style=\"text-align: right;\">\n",
       "      <th></th>\n",
       "      <th>CCN</th>\n",
       "      <th>START_DATE</th>\n",
       "      <th>END_DATE</th>\n",
       "      <th>REPORT_DAT</th>\n",
       "      <th>SHIFT</th>\n",
       "      <th>WARD</th>\n",
       "      <th>BLOCK_GROUP</th>\n",
       "      <th>CENSUS_TRACT</th>\n",
       "      <th>BLOCK</th>\n",
       "      <th>OFFENSE</th>\n",
       "      <th>METHOD</th>\n",
       "      <th>LATITUDE</th>\n",
       "      <th>LONGITUDE</th>\n",
       "      <th>OBJECTID</th>\n",
       "      <th>OCTO_RECORD_ID</th>\n",
       "      <th>geometry</th>\n",
       "    </tr>\n",
       "  </thead>\n",
       "  <tbody>\n",
       "    <tr>\n",
       "      <th>0</th>\n",
       "      <td>18221681</td>\n",
       "      <td>2018-12-31T11:49:19</td>\n",
       "      <td>2018-12-31T14:43:21</td>\n",
       "      <td>2019-01-01T10:24:06</td>\n",
       "      <td>DAY</td>\n",
       "      <td>2</td>\n",
       "      <td>005800 1</td>\n",
       "      <td>005800</td>\n",
       "      <td>1100 - 1199 BLOCK OF F STREET NW</td>\n",
       "      <td>THEFT/OTHER</td>\n",
       "      <td>OTHERS</td>\n",
       "      <td>38.897346</td>\n",
       "      <td>-77.027563</td>\n",
       "      <td>355636251</td>\n",
       "      <td>18221681-01</td>\n",
       "      <td>POINT (-77.02757 38.89735)</td>\n",
       "    </tr>\n",
       "    <tr>\n",
       "      <th>1</th>\n",
       "      <td>18221708</td>\n",
       "      <td>2018-12-31T12:48:46</td>\n",
       "      <td>2018-12-31T12:51:47</td>\n",
       "      <td>2019-01-01T15:48:01</td>\n",
       "      <td>EVENING</td>\n",
       "      <td>2</td>\n",
       "      <td>005800 1</td>\n",
       "      <td>005800</td>\n",
       "      <td>700 - 799 BLOCK OF 7TH STREET NW</td>\n",
       "      <td>THEFT/OTHER</td>\n",
       "      <td>OTHERS</td>\n",
       "      <td>38.899121</td>\n",
       "      <td>-77.021926</td>\n",
       "      <td>355636258</td>\n",
       "      <td>18221708-01</td>\n",
       "      <td>POINT (-77.02193 38.89913)</td>\n",
       "    </tr>\n",
       "    <tr>\n",
       "      <th>2</th>\n",
       "      <td>18221735</td>\n",
       "      <td>2018-12-31T14:29:20</td>\n",
       "      <td>2018-12-31T15:07:39</td>\n",
       "      <td>2019-01-01T07:56:37</td>\n",
       "      <td>DAY</td>\n",
       "      <td>6</td>\n",
       "      <td>004802 1</td>\n",
       "      <td>004802</td>\n",
       "      <td>400 - 499 BLOCK OF M STREET NW</td>\n",
       "      <td>THEFT/OTHER</td>\n",
       "      <td>OTHERS</td>\n",
       "      <td>38.905635</td>\n",
       "      <td>-77.017559</td>\n",
       "      <td>355636263</td>\n",
       "      <td>18221735-01</td>\n",
       "      <td>POINT (-77.01756 38.90564)</td>\n",
       "    </tr>\n",
       "    <tr>\n",
       "      <th>3</th>\n",
       "      <td>18221785</td>\n",
       "      <td>2018-12-31T12:30:11</td>\n",
       "      <td>2018-12-31T17:14:09</td>\n",
       "      <td>2019-01-01T02:32:59</td>\n",
       "      <td>MIDNIGHT</td>\n",
       "      <td>1</td>\n",
       "      <td>002802 1</td>\n",
       "      <td>002802</td>\n",
       "      <td>1400 - 1499 BLOCK OF HARVARD COURT NW</td>\n",
       "      <td>THEFT F/AUTO</td>\n",
       "      <td>OTHERS</td>\n",
       "      <td>38.926937</td>\n",
       "      <td>-77.033694</td>\n",
       "      <td>355636277</td>\n",
       "      <td>18221785-01</td>\n",
       "      <td>POINT (-77.03370 38.92694)</td>\n",
       "    </tr>\n",
       "    <tr>\n",
       "      <th>4</th>\n",
       "      <td>18220657</td>\n",
       "      <td>2018-12-29T14:15:38</td>\n",
       "      <td>2018-12-29T14:50:43</td>\n",
       "      <td>2019-01-05T11:31:29</td>\n",
       "      <td>DAY</td>\n",
       "      <td>6</td>\n",
       "      <td>010200 2</td>\n",
       "      <td>010200</td>\n",
       "      <td>900 - 1199 BLOCK OF 4TH STREET SW</td>\n",
       "      <td>THEFT F/AUTO</td>\n",
       "      <td>OTHERS</td>\n",
       "      <td>38.877862</td>\n",
       "      <td>-77.017644</td>\n",
       "      <td>355636322</td>\n",
       "      <td>18220657-01</td>\n",
       "      <td>POINT (-77.01765 38.87787)</td>\n",
       "    </tr>\n",
       "  </tbody>\n",
       "</table>\n",
       "</div>"
      ],
      "text/plain": [
       "        CCN           START_DATE             END_DATE           REPORT_DAT  \\\n",
       "0  18221681  2018-12-31T11:49:19  2018-12-31T14:43:21  2019-01-01T10:24:06   \n",
       "1  18221708  2018-12-31T12:48:46  2018-12-31T12:51:47  2019-01-01T15:48:01   \n",
       "2  18221735  2018-12-31T14:29:20  2018-12-31T15:07:39  2019-01-01T07:56:37   \n",
       "3  18221785  2018-12-31T12:30:11  2018-12-31T17:14:09  2019-01-01T02:32:59   \n",
       "4  18220657  2018-12-29T14:15:38  2018-12-29T14:50:43  2019-01-05T11:31:29   \n",
       "\n",
       "      SHIFT WARD BLOCK_GROUP CENSUS_TRACT  \\\n",
       "0       DAY    2    005800 1       005800   \n",
       "1   EVENING    2    005800 1       005800   \n",
       "2       DAY    6    004802 1       004802   \n",
       "3  MIDNIGHT    1    002802 1       002802   \n",
       "4       DAY    6    010200 2       010200   \n",
       "\n",
       "                                   BLOCK       OFFENSE  METHOD   LATITUDE  \\\n",
       "0       1100 - 1199 BLOCK OF F STREET NW   THEFT/OTHER  OTHERS  38.897346   \n",
       "1       700 - 799 BLOCK OF 7TH STREET NW   THEFT/OTHER  OTHERS  38.899121   \n",
       "2         400 - 499 BLOCK OF M STREET NW   THEFT/OTHER  OTHERS  38.905635   \n",
       "3  1400 - 1499 BLOCK OF HARVARD COURT NW  THEFT F/AUTO  OTHERS  38.926937   \n",
       "4      900 - 1199 BLOCK OF 4TH STREET SW  THEFT F/AUTO  OTHERS  38.877862   \n",
       "\n",
       "   LONGITUDE   OBJECTID OCTO_RECORD_ID                    geometry  \n",
       "0 -77.027563  355636251    18221681-01  POINT (-77.02757 38.89735)  \n",
       "1 -77.021926  355636258    18221708-01  POINT (-77.02193 38.89913)  \n",
       "2 -77.017559  355636263    18221735-01  POINT (-77.01756 38.90564)  \n",
       "3 -77.033694  355636277    18221785-01  POINT (-77.03370 38.92694)  \n",
       "4 -77.017644  355636322    18220657-01  POINT (-77.01765 38.87787)  "
      ]
     },
     "execution_count": 6,
     "metadata": {},
     "output_type": "execute_result"
    }
   ],
   "source": [
    "df_crime.head()"
   ]
  },
  {
   "cell_type": "markdown",
   "metadata": {},
   "source": [
    "### Visualizations"
   ]
  },
  {
   "cell_type": "code",
   "execution_count": null,
   "metadata": {},
   "outputs": [],
   "source": [
    "# Number of crimes by year\n",
    "\n",
    "# year_df = pd.DataFrame(df.YEAR.value_counts())\n",
    "# year_df = year_df.rename(columns={\"YEAR\": \"Year\"})\n",
    "# year_df"
   ]
  },
  {
   "cell_type": "markdown",
   "metadata": {},
   "source": [
    "#### Categorical plot for count of offense type"
   ]
  },
  {
   "cell_type": "code",
   "execution_count": 10,
   "metadata": {},
   "outputs": [
    {
     "data": {
      "text/plain": [
       "Text(-150.559375, 0.5, 'Offense Type')"
      ]
     },
     "execution_count": 10,
     "metadata": {},
     "output_type": "execute_result"
    },
    {
     "data": {
      "image/png": "[encoded data removed]",
      "text/plain": [
       "<Figure size 864x576 with 1 Axes>"
      ]
     },
     "metadata": {
      "needs_background": "light"
     },
     "output_type": "display_data"
    }
   ],
   "source": [
    "color = ['#0033cc']\n",
    "sns.catplot(y='OFFENSE', kind='count', height=8, aspect=1.5, order=df_crime.OFFENSE.value_counts().index, \n",
    "            data=df_crime, palette=sns.color_palette(color))\n",
    "\n",
    "plt.title('Total Crimes by Offense Type', fontsize=20)\n",
    "plt.xticks(size=10)\n",
    "plt.yticks(size=10)\n",
    "plt.xlabel('Count', fontsize=15)\n",
    "plt.ylabel('Offense Type', fontsize=15)"
   ]
  },
  {
   "cell_type": "markdown",
   "metadata": {},
   "source": [
    "#### Type of weapon used in attack"
   ]
  },
  {
   "cell_type": "code",
   "execution_count": 30,
   "metadata": {},
   "outputs": [
    {
     "data": {
      "text/html": [
       "<div>\n",
       "<style scoped>\n",
       "    .dataframe tbody tr th:only-of-type {\n",
       "        vertical-align: middle;\n",
       "    }\n",
       "\n",
       "    .dataframe tbody tr th {\n",
       "        vertical-align: top;\n",
       "    }\n",
       "\n",
       "    .dataframe thead th {\n",
       "        text-align: right;\n",
       "    }\n",
       "</style>\n",
       "<table border=\"1\" class=\"dataframe\">\n",
       "  <thead>\n",
       "    <tr style=\"text-align: right;\">\n",
       "      <th></th>\n",
       "      <th>Weapon Used</th>\n",
       "    </tr>\n",
       "  </thead>\n",
       "  <tbody>\n",
       "    <tr>\n",
       "      <th>OTHERS</th>\n",
       "      <td>25085</td>\n",
       "    </tr>\n",
       "    <tr>\n",
       "      <th>GUN</th>\n",
       "      <td>1280</td>\n",
       "    </tr>\n",
       "    <tr>\n",
       "      <th>KNIFE</th>\n",
       "      <td>541</td>\n",
       "    </tr>\n",
       "  </tbody>\n",
       "</table>\n",
       "</div>"
      ],
      "text/plain": [
       "        Weapon Used\n",
       "OTHERS        25085\n",
       "GUN            1280\n",
       "KNIFE           541"
      ]
     },
     "execution_count": 30,
     "metadata": {},
     "output_type": "execute_result"
    }
   ],
   "source": [
    "method_df = pd.DataFrame(df_crime.METHOD.value_counts())\n",
    "method_df = method_df.rename(columns={'METHOD': 'Weapon Used'})\n",
    "#method_df = method_df.reset_index()\n",
    "s = pd.Series([1, 2, 3])\n",
    "method_df.set_index(s)\n",
    "\n",
    "#method_pie = method_df.plot.pie(y='Weapon Used', figsize=(7, 7))\n",
    "# # Create a pie chart\n",
    "# plt.pie(\n",
    "#     # using data total)arrests\n",
    "#     method_df['Weapon Used'],\n",
    "#     # with the labels being officer names\n",
    "#     labels=method_df['index'],\n",
    "#     # with no shadows\n",
    "#     shadow=False,\n",
    "#     # with one slide exploded out\n",
    "#     explode=(0.15, 0, 0),\n",
    "#     # with the start angle at 90%\n",
    "#     startangle=90,\n",
    "#     )\n",
    "\n",
    "# # View the plot drop above\n",
    "# plt.axis('equal')\n",
    "\n",
    "# # View the plot\n",
    "# plt.tight_layout()\n",
    "# plt.show()\n",
    "method_df"
   ]
  },
  {
   "cell_type": "markdown",
   "metadata": {},
   "source": [
    "### Categorical plot for count of total crimes by neighborhood and time of day"
   ]
  },
  {
   "cell_type": "code",
   "execution_count": null,
   "metadata": {},
   "outputs": [],
   "source": [
    "sns.catplot(x='BID', hue='SHIFT', kind='count', height=8, aspect=1.5, order=df.BID.value_counts().index, \n",
    "            data=df, legend=False)\n",
    "\n",
    "plt.title('Total Crimes by Neighborhood and Time of Day', fontsize=20)\n",
    "\n",
    "plt.xticks(size=10, rotation=90)\n",
    "plt.yticks(size=10)\n",
    "plt.xlabel('Neighborhood', fontsize=15)\n",
    "plt.ylabel('Count', fontsize=15)\n",
    "plt.legend(title='Time of Day', loc='right')"
   ]
  },
  {
   "cell_type": "markdown",
   "metadata": {},
   "source": [
    "#### Number of Crimes by Ward"
   ]
  },
  {
   "cell_type": "code",
   "execution_count": null,
   "metadata": {},
   "outputs": [],
   "source": [
    "ward_df = pd.DataFrame(df.WARD.value_counts())\n",
    "ward_df = ward_df.rename(columns={\"WARD\": \"Ward\"})\n",
    "ward_df"
   ]
  },
  {
   "cell_type": "markdown",
   "metadata": {},
   "source": [
    "#### Categorical plot for count of total crimes by ward and time of day"
   ]
  },
  {
   "cell_type": "code",
   "execution_count": null,
   "metadata": {},
   "outputs": [],
   "source": [
    "sns.catplot(x='WARD', hue='SHIFT', kind='count', height=8, aspect=1.5, order=df.WARD.value_counts().index, \n",
    "            data=df, legend=False)\n",
    "\n",
    "plt.title('Total Crimes by Ward and Time of Day', fontsize=20)\n",
    "\n",
    "plt.xticks(size=10)\n",
    "plt.yticks(size=10)\n",
    "plt.xlabel('Ward', fontsize=15)\n",
    "plt.ylabel('Count', fontsize=15)\n",
    "plt.legend(title='Time of Day', loc='right')"
   ]
  },
  {
   "cell_type": "markdown",
   "metadata": {},
   "source": [
    "#### Tableau map of crimes by ward"
   ]
  },
  {
   "cell_type": "code",
   "execution_count": null,
   "metadata": {},
   "outputs": [],
   "source": [
    "%%HTML \n",
    "\n",
    "<div class='tableauPlaceholder' id='viz1570313986891' style='position: relative'>\n",
    "    <noscript>\n",
    "        <a href='#'>\n",
    "            <img alt=' ' src='https:&#47;&#47;public.tableau.com&#47;static&#47;images&#47;dc&#47;dc_crimes_map&#47;DCCrimesbyWard2017-2019&#47;1_rss.png' style='border: none' />\n",
    "        </a>\n",
    "    </noscript>\n",
    "    <object class='tableauViz'  style='display:none;'>\n",
    "        <param name='host_url' value='https%3A%2F%2Fpublic.tableau.com%2F' /> \n",
    "        <param name='embed_code_version' value='3' /> \n",
    "        <param name='site_root' value='' />\n",
    "        <param name='name' value='dc_crimes_map&#47;DCCrimesbyWard2017-2019' />\n",
    "        <param name='tabs' value='no' />\n",
    "        <param name='toolbar' value='yes' />\n",
    "        <param name='static_image' value='https:&#47;&#47;public.tableau.com&#47;static&#47;images&#47;dc&#47;dc_crimes_map&#47;DCCrimesbyWard2017-2019&#47;1.png' /> \n",
    "        <param name='animate_transition' value='yes' />\n",
    "        <param name='display_static_image' value='yes' />\n",
    "        <param name='display_spinner' value='yes' />\n",
    "        <param name='display_overlay' value='yes' />\n",
    "        <param name='display_count' value='yes' />\n",
    "        <param name='filter' value='publish=yes' />\n",
    "    </object>              \n",
    "    <script type='text/javascript'>                    \n",
    "        var divElement = document.getElementById('viz1570313986891');                    \n",
    "        var vizElement = divElement.getElementsByTagName('object')[0];                    \n",
    "        vizElement.style.width='100%';vizElement.style.height=(divElement.offsetWidth*0.75)+'px';                    \n",
    "        var scriptElement = document.createElement('script');                    \n",
    "        scriptElement.src = 'https://public.tableau.com/javascripts/api/viz_v1.js';                    \n",
    "        vizElement.parentNode.insertBefore(scriptElement, vizElement);                \n",
    "    </script>\n",
    "</div>"
   ]
  },
  {
   "cell_type": "code",
   "execution_count": null,
   "metadata": {},
   "outputs": [],
   "source": []
  }
 ],
 "metadata": {
  "kernelspec": {
   "display_name": "Python 3",
   "language": "python",
   "name": "python3"
  },
  "language_info": {
   "codemirror_mode": {
    "name": "ipython",
    "version": 3
   },
   "file_extension": ".py",
   "mimetype": "text/x-python",
   "name": "python",
   "nbconvert_exporter": "python",
   "pygments_lexer": "ipython3",
   "version": "3.7.3"
  }
 },
 "nbformat": 4,
 "nbformat_minor": 2
}
