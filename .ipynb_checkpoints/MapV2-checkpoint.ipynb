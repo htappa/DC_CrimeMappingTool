{
 "cells": [
  {
   "cell_type": "markdown",
   "metadata": {},
   "source": [
    "# **Map of Crimes in DC**"
   ]
  },
  {
   "cell_type": "markdown",
   "metadata": {},
   "source": [
    "### Packages"
   ]
  },
  {
   "cell_type": "code",
   "execution_count": 31,
   "metadata": {},
   "outputs": [],
   "source": [
    "import requests\n",
    "import json\n",
    "import pandas as pd\n",
    "import numpy as np\n",
    "import geopandas as gpd\n",
    "import folium\n",
    "from folium.plugins import MarkerCluster\n",
    "import webbrowser\n",
    "import os\n",
    "\n",
    "pd.set_option('display.max_columns', 100)"
   ]
  },
  {
   "cell_type": "markdown",
   "metadata": {},
   "source": [
    "### Read in API data (2019)\n",
    "Crime Incidents API Website: https://opendata.dc.gov/datasets/crime-incidents-in-2019/geoservice  "
   ]
  },
  {
   "cell_type": "code",
   "execution_count": null,
   "metadata": {},
   "outputs": [],
   "source": [
    "url_crime = 'https://opendata.arcgis.com/datasets/f08294e5286141c293e9202fcd3e8b57_1.geojson'\n",
    "df_crime = gpd.read_file(url_crime)"
   ]
  },
  {
   "cell_type": "markdown",
   "metadata": {},
   "source": [
    "### Clean API data"
   ]
  },
  {
   "cell_type": "code",
   "execution_count": null,
   "metadata": {},
   "outputs": [],
   "source": [
    "# create new column for violent crimes and property crimes where:\n",
    "# violent = ASSAULT W/DANGEROUS WEAPON, HOMICIDE, ROBBERY, SEX ABUSE\n",
    "# property = MOTOR VEHICLE THEFT, THEFT F/AUTO, THEFT/OTHER, BURGLARY, ARSON\n",
    "\n",
    "# define function to map values \n",
    "def set_value(row_number, assigned_value): \n",
    "    return assigned_value[row_number] \n",
    "\n",
    "# create dictionary \n",
    "offense_dictionary = {'ASSAULT W/DANGEROUS WEAPON': 'violent', 'HOMICIDE': 'violent', 'ROBBERY': 'violent', \n",
    "                      'SEX ABUSE': 'violent', 'THEFT/OTHER': 'property', 'THEFT F/AUTO': 'property', \n",
    "                      'MOTOR VEHICLE THEFT': 'property', 'BURGLARY': 'property', 'ARSON': 'property'} \n",
    "\n",
    "# add new column named 'OFFENSE_GROUP' \n",
    "df_crime['OFFENSE_GROUP'] = df_crime['OFFENSE'].apply(set_value, args =(offense_dictionary, ))"
   ]
  },
  {
   "cell_type": "code",
   "execution_count": null,
   "metadata": {},
   "outputs": [],
   "source": [
    "def time_of_day():\n",
    "    time = input(\"Enter time of day (day, evening, midnight): \")\n",
    "    time = str(time)\n",
    "    d = df_crime['SHIFT'] == 'DAY'\n",
    "    e = df_crime['SHIFT'] == 'EVENING'\n",
    "    m = df_crime['SHIFT'] == 'MIDNIGHT'\n",
    "    crime_d = df_crime[d]\n",
    "    crime_e = df_crime[e]\n",
    "    crime_m = df_crime[m]\n",
    "    if time == 'day':\n",
    "        return crime_d\n",
    "    elif time == 'evening':\n",
    "        return crime_e\n",
    "    elif time == 'midnight':\n",
    "        return crime_m\n",
    "    else:\n",
    "        print('ERROR: Input must be either \"day\", \"evening\", or \"midnight\"')\n",
    "        return\n",
    "\n",
    "df_crime = time_of_day()\n",
    "\n",
    "def type_of_offense():\n",
    "    offense = input(\"Enter offense type (violent, property): \")\n",
    "    offense = str(offense)\n",
    "    v = df_crime['OFFENSE_GROUP'] == 'violent'\n",
    "    p = df_crime['OFFENSE_GROUP'] == 'property'\n",
    "    crime_v = df_crime[v]\n",
    "    crime_p = df_crime[p]\n",
    "    if offense == 'violent':\n",
    "        return crime_v\n",
    "    elif offense == 'property':\n",
    "        return crime_p\n",
    "    else:\n",
    "        print('ERROR: Input must be either \"violent\" or \"property\"')\n",
    "        return\n",
    "        \n",
    "df_crime = type_of_offense()"
   ]
  },
  {
   "cell_type": "code",
   "execution_count": 35,
   "metadata": {},
   "outputs": [
    {
     "data": {
      "text/html": [
       "<div>\n",
       "<style scoped>\n",
       "    .dataframe tbody tr th:only-of-type {\n",
       "        vertical-align: middle;\n",
       "    }\n",
       "\n",
       "    .dataframe tbody tr th {\n",
       "        vertical-align: top;\n",
       "    }\n",
       "\n",
       "    .dataframe thead th {\n",
       "        text-align: right;\n",
       "    }\n",
       "</style>\n",
       "<table border=\"1\" class=\"dataframe\">\n",
       "  <thead>\n",
       "    <tr style=\"text-align: right;\">\n",
       "      <th></th>\n",
       "      <th>CCN</th>\n",
       "      <th>REPORT_DAT</th>\n",
       "      <th>SHIFT</th>\n",
       "      <th>METHOD</th>\n",
       "      <th>OFFENSE</th>\n",
       "      <th>BLOCK</th>\n",
       "      <th>XBLOCK</th>\n",
       "      <th>YBLOCK</th>\n",
       "      <th>WARD</th>\n",
       "      <th>ANC</th>\n",
       "      <th>DISTRICT</th>\n",
       "      <th>PSA</th>\n",
       "      <th>NEIGHBORHOOD_CLUSTER</th>\n",
       "      <th>BLOCK_GROUP</th>\n",
       "      <th>CENSUS_TRACT</th>\n",
       "      <th>VOTING_PRECINCT</th>\n",
       "      <th>LATITUDE</th>\n",
       "      <th>LONGITUDE</th>\n",
       "      <th>BID</th>\n",
       "      <th>START_DATE</th>\n",
       "      <th>END_DATE</th>\n",
       "      <th>OBJECTID</th>\n",
       "      <th>OCTO_RECORD_ID</th>\n",
       "      <th>geometry</th>\n",
       "      <th>OFFENSE_GROUP</th>\n",
       "    </tr>\n",
       "  </thead>\n",
       "  <tbody>\n",
       "    <tr>\n",
       "      <th>388</th>\n",
       "      <td>19058543</td>\n",
       "      <td>2019-04-07T07:42:00</td>\n",
       "      <td>DAY</td>\n",
       "      <td>OTHERS</td>\n",
       "      <td>ROBBERY</td>\n",
       "      <td>920 - 999 BLOCK OF 52ND STREET NE</td>\n",
       "      <td>406495.0</td>\n",
       "      <td>137272.0</td>\n",
       "      <td>7</td>\n",
       "      <td>7C</td>\n",
       "      <td>6</td>\n",
       "      <td>608</td>\n",
       "      <td>Cluster 31</td>\n",
       "      <td>007809 1</td>\n",
       "      <td>007809</td>\n",
       "      <td>Precinct 94</td>\n",
       "      <td>38.903279</td>\n",
       "      <td>-76.925121</td>\n",
       "      <td>None</td>\n",
       "      <td>2019-04-07T06:02:52</td>\n",
       "      <td>2019-04-07T07:17:36</td>\n",
       "      <td>359728715</td>\n",
       "      <td>19058543-01</td>\n",
       "      <td>POINT (-76.92512 38.90329)</td>\n",
       "      <td>violent</td>\n",
       "    </tr>\n",
       "    <tr>\n",
       "      <th>389</th>\n",
       "      <td>19058545</td>\n",
       "      <td>2019-04-07T07:56:41</td>\n",
       "      <td>DAY</td>\n",
       "      <td>OTHERS</td>\n",
       "      <td>ROBBERY</td>\n",
       "      <td>1240 - 1399 BLOCK OF NEW YORK AVENUE NE</td>\n",
       "      <td>401165.0</td>\n",
       "      <td>138586.0</td>\n",
       "      <td>5</td>\n",
       "      <td>5C</td>\n",
       "      <td>5</td>\n",
       "      <td>506</td>\n",
       "      <td>Cluster 22</td>\n",
       "      <td>008803 1</td>\n",
       "      <td>008803</td>\n",
       "      <td>Precinct 76</td>\n",
       "      <td>38.915140</td>\n",
       "      <td>-76.986567</td>\n",
       "      <td>None</td>\n",
       "      <td>2019-04-07T05:50:50</td>\n",
       "      <td>2019-04-07T06:00:32</td>\n",
       "      <td>359728716</td>\n",
       "      <td>19058545-01</td>\n",
       "      <td>POINT (-76.98657 38.91515)</td>\n",
       "      <td>violent</td>\n",
       "    </tr>\n",
       "    <tr>\n",
       "      <th>390</th>\n",
       "      <td>19058548</td>\n",
       "      <td>2019-04-07T09:35:06</td>\n",
       "      <td>DAY</td>\n",
       "      <td>OTHERS</td>\n",
       "      <td>ASSAULT W/DANGEROUS WEAPON</td>\n",
       "      <td>2400 - 2599 BLOCK OF GEORGIA AVENUE NW</td>\n",
       "      <td>398058.0</td>\n",
       "      <td>139487.0</td>\n",
       "      <td>1</td>\n",
       "      <td>1B</td>\n",
       "      <td>3</td>\n",
       "      <td>304</td>\n",
       "      <td>Cluster 2</td>\n",
       "      <td>003500 2</td>\n",
       "      <td>003500</td>\n",
       "      <td>Precinct 37</td>\n",
       "      <td>38.923255</td>\n",
       "      <td>-77.022395</td>\n",
       "      <td>None</td>\n",
       "      <td>2019-04-07T02:30:24</td>\n",
       "      <td>2019-04-07T06:50:25</td>\n",
       "      <td>359728717</td>\n",
       "      <td>19058548-01</td>\n",
       "      <td>POINT (-77.02240 38.92326)</td>\n",
       "      <td>violent</td>\n",
       "    </tr>\n",
       "    <tr>\n",
       "      <th>458</th>\n",
       "      <td>19059027</td>\n",
       "      <td>2019-04-08T07:49:55</td>\n",
       "      <td>DAY</td>\n",
       "      <td>GUN</td>\n",
       "      <td>ROBBERY</td>\n",
       "      <td>3300 - 3399 BLOCK OF ELY PLACE SE</td>\n",
       "      <td>403587.0</td>\n",
       "      <td>135089.0</td>\n",
       "      <td>7</td>\n",
       "      <td>7B</td>\n",
       "      <td>6</td>\n",
       "      <td>603</td>\n",
       "      <td>Cluster 32</td>\n",
       "      <td>007708 2</td>\n",
       "      <td>007708</td>\n",
       "      <td>Precinct 132</td>\n",
       "      <td>38.883631</td>\n",
       "      <td>-76.958658</td>\n",
       "      <td>None</td>\n",
       "      <td>2019-04-08T02:15:51</td>\n",
       "      <td>2019-04-08T03:30:23</td>\n",
       "      <td>359728785</td>\n",
       "      <td>19059027-01</td>\n",
       "      <td>POINT (-76.95866 38.88364)</td>\n",
       "      <td>violent</td>\n",
       "    </tr>\n",
       "    <tr>\n",
       "      <th>518</th>\n",
       "      <td>19056441</td>\n",
       "      <td>2019-04-04T08:33:14</td>\n",
       "      <td>DAY</td>\n",
       "      <td>OTHERS</td>\n",
       "      <td>SEX ABUSE</td>\n",
       "      <td>1200 - 1299 BLOCK OF 20TH STREET NW</td>\n",
       "      <td>396106.0</td>\n",
       "      <td>137622.0</td>\n",
       "      <td>2</td>\n",
       "      <td>2A</td>\n",
       "      <td>2</td>\n",
       "      <td>208</td>\n",
       "      <td>Cluster 6</td>\n",
       "      <td>010700 2</td>\n",
       "      <td>010700</td>\n",
       "      <td>Precinct 4</td>\n",
       "      <td>38.906448</td>\n",
       "      <td>-77.044895</td>\n",
       "      <td>GOLDEN TRIANGLE</td>\n",
       "      <td>2019-04-03T22:50:10</td>\n",
       "      <td>2019-04-03T23:15:05</td>\n",
       "      <td>359728845</td>\n",
       "      <td>19056441-01</td>\n",
       "      <td>POINT (-77.04490 38.90646)</td>\n",
       "      <td>violent</td>\n",
       "    </tr>\n",
       "  </tbody>\n",
       "</table>\n",
       "</div>"
      ],
      "text/plain": [
       "          CCN           REPORT_DAT SHIFT  METHOD                     OFFENSE  \\\n",
       "388  19058543  2019-04-07T07:42:00   DAY  OTHERS                     ROBBERY   \n",
       "389  19058545  2019-04-07T07:56:41   DAY  OTHERS                     ROBBERY   \n",
       "390  19058548  2019-04-07T09:35:06   DAY  OTHERS  ASSAULT W/DANGEROUS WEAPON   \n",
       "458  19059027  2019-04-08T07:49:55   DAY     GUN                     ROBBERY   \n",
       "518  19056441  2019-04-04T08:33:14   DAY  OTHERS                   SEX ABUSE   \n",
       "\n",
       "                                       BLOCK    XBLOCK    YBLOCK WARD ANC  \\\n",
       "388        920 - 999 BLOCK OF 52ND STREET NE  406495.0  137272.0    7  7C   \n",
       "389  1240 - 1399 BLOCK OF NEW YORK AVENUE NE  401165.0  138586.0    5  5C   \n",
       "390   2400 - 2599 BLOCK OF GEORGIA AVENUE NW  398058.0  139487.0    1  1B   \n",
       "458        3300 - 3399 BLOCK OF ELY PLACE SE  403587.0  135089.0    7  7B   \n",
       "518      1200 - 1299 BLOCK OF 20TH STREET NW  396106.0  137622.0    2  2A   \n",
       "\n",
       "    DISTRICT  PSA NEIGHBORHOOD_CLUSTER BLOCK_GROUP CENSUS_TRACT  \\\n",
       "388        6  608           Cluster 31    007809 1       007809   \n",
       "389        5  506           Cluster 22    008803 1       008803   \n",
       "390        3  304            Cluster 2    003500 2       003500   \n",
       "458        6  603           Cluster 32    007708 2       007708   \n",
       "518        2  208            Cluster 6    010700 2       010700   \n",
       "\n",
       "    VOTING_PRECINCT   LATITUDE  LONGITUDE              BID  \\\n",
       "388     Precinct 94  38.903279 -76.925121             None   \n",
       "389     Precinct 76  38.915140 -76.986567             None   \n",
       "390     Precinct 37  38.923255 -77.022395             None   \n",
       "458    Precinct 132  38.883631 -76.958658             None   \n",
       "518      Precinct 4  38.906448 -77.044895  GOLDEN TRIANGLE   \n",
       "\n",
       "              START_DATE             END_DATE   OBJECTID OCTO_RECORD_ID  \\\n",
       "388  2019-04-07T06:02:52  2019-04-07T07:17:36  359728715    19058543-01   \n",
       "389  2019-04-07T05:50:50  2019-04-07T06:00:32  359728716    19058545-01   \n",
       "390  2019-04-07T02:30:24  2019-04-07T06:50:25  359728717    19058548-01   \n",
       "458  2019-04-08T02:15:51  2019-04-08T03:30:23  359728785    19059027-01   \n",
       "518  2019-04-03T22:50:10  2019-04-03T23:15:05  359728845    19056441-01   \n",
       "\n",
       "                       geometry OFFENSE_GROUP  \n",
       "388  POINT (-76.92512 38.90329)       violent  \n",
       "389  POINT (-76.98657 38.91515)       violent  \n",
       "390  POINT (-77.02240 38.92326)       violent  \n",
       "458  POINT (-76.95866 38.88364)       violent  \n",
       "518  POINT (-77.04490 38.90646)       violent  "
      ]
     },
     "execution_count": 35,
     "metadata": {},
     "output_type": "execute_result"
    }
   ],
   "source": [
    "df_crime.head()"
   ]
  },
  {
   "cell_type": "markdown",
   "metadata": {},
   "source": [
    "### Build Map"
   ]
  },
  {
   "cell_type": "code",
   "execution_count": 60,
   "metadata": {},
   "outputs": [],
   "source": [
    "# define dc coordinates for blank map\n",
    "dc_coordinates = (38.9072, -77.0369)\n",
    "\n",
    "# create map zoomed in on DC\n",
    "map = folium.Map(location=dc_coordinates, zoom_start=12)"
   ]
  },
  {
   "cell_type": "code",
   "execution_count": 61,
   "metadata": {},
   "outputs": [],
   "source": [
    "mc = MarkerCluster().add_to(map)"
   ]
  },
  {
   "cell_type": "code",
   "execution_count": 62,
   "metadata": {},
   "outputs": [],
   "source": [
    "for each in df_crime.iterrows():\n",
    "    folium.Marker([each[1]['LATITUDE'],each[1]['LONGITUDE']], \n",
    "                  popup=each[1]['OFFENSE'] + \", \" + each[1]['START_DATE']).add_to(mc)"
   ]
  },
  {
   "cell_type": "code",
   "execution_count": 63,
   "metadata": {},
   "outputs": [],
   "source": [
    "map.save('dc_crimes_map_clustered.html')"
   ]
  },
  {
   "cell_type": "code",
   "execution_count": 64,
   "metadata": {},
   "outputs": [],
   "source": [
    "# change path to reflect file location and format for webbrowser\n",
    "filename = 'file:///'+os.getcwd()+'/' + 'dc_crimes_map_clustered.html'"
   ]
  },
  {
   "cell_type": "markdown",
   "metadata": {},
   "source": [
    "To open the map in a new tab in Google Chrome, use the code below for your respective OS:"
   ]
  },
  {
   "cell_type": "code",
   "execution_count": 65,
   "metadata": {},
   "outputs": [],
   "source": [
    "# Windows\n",
    "# chrome_cmd = \"C:\\Program Files (x86)\\Google\\Chrome\\Application\\chrome.exe %s\"\n",
    "\n",
    "# Mac\n",
    "chrome_cmd = \"open -a /Applications/Google\\ Chrome.app %s\"\n",
    "\n",
    "# Linux\n",
    "# chrome_cmd = \"/usr/bin/google-chrome %s\""
   ]
  },
  {
   "cell_type": "code",
   "execution_count": 66,
   "metadata": {},
   "outputs": [
    {
     "data": {
      "text/plain": [
       "True"
      ]
     },
     "execution_count": 66,
     "metadata": {},
     "output_type": "execute_result"
    }
   ],
   "source": [
    "webbrowser.get(chrome_cmd).open_new_tab(filename)"
   ]
  },
  {
   "cell_type": "code",
   "execution_count": null,
   "metadata": {},
   "outputs": [],
   "source": []
  }
 ],
 "metadata": {
  "kernelspec": {
   "display_name": "Python 3",
   "language": "python",
   "name": "python3"
  },
  "language_info": {
   "codemirror_mode": {
    "name": "ipython",
    "version": 3
   },
   "file_extension": ".py",
   "mimetype": "text/x-python",
   "name": "python",
   "nbconvert_exporter": "python",
   "pygments_lexer": "ipython3",
   "version": "3.7.3"
  }
 },
 "nbformat": 4,
 "nbformat_minor": 2
}
