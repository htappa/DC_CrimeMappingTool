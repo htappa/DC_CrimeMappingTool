{
 "cells": [
  {
   "cell_type": "markdown",
   "metadata": {},
   "source": [
    "# **Crime Risk in DC**"
   ]
  },
  {
   "cell_type": "markdown",
   "metadata": {},
   "source": [
    "### Packages"
   ]
  },
  {
   "cell_type": "code",
   "execution_count": 2,
   "metadata": {},
   "outputs": [],
   "source": [
    "import requests\n",
    "import json\n",
    "import pandas as pd\n",
    "import matplotlib.pyplot as plt\n",
    "import geopandas as gpd\n",
    "import shapely\n",
    "from descartes import PolygonPatch\n",
    "\n",
    "pd.set_option('display.max_columns', 50)"
   ]
  },
  {
   "cell_type": "markdown",
   "metadata": {},
   "source": [
    "### Read in API data (2019)\n",
    "Crime Incidents API Website: https://opendata.dc.gov/datasets/crime-incidents-in-2019/geoservice  \n",
    "Population API Website: https://opendata.dc.gov/datasets/census-block-groups-by-2004-population"
   ]
  },
  {
   "cell_type": "code",
   "execution_count": 3,
   "metadata": {},
   "outputs": [],
   "source": [
    "url_crime = 'https://opendata.arcgis.com/datasets/f08294e5286141c293e9202fcd3e8b57_1.geojson'\n",
    "df_crime = gpd.read_file(url_crime)"
   ]
  },
  {
   "cell_type": "code",
   "execution_count": 4,
   "metadata": {},
   "outputs": [],
   "source": [
    "url_pop = 'https://opendata.arcgis.com/datasets/c070badb329040cd8db25b0de3ab1efb_4.geojson'\n",
    "df_pop = gpd.read_file(url_pop)"
   ]
  },
  {
   "cell_type": "markdown",
   "metadata": {},
   "source": [
    "### Clean API Data"
   ]
  },
  {
   "cell_type": "code",
   "execution_count": 5,
   "metadata": {},
   "outputs": [],
   "source": [
    "df_crime = df_crime[['CCN', 'START_DATE', 'END_DATE', 'REPORT_DAT', 'SHIFT', 'WARD', 'CENSUS_TRACT', 'BLOCK', 'OFFENSE', \n",
    "                     'METHOD', 'LATITUDE', 'LONGITUDE', 'OBJECTID', 'OCTO_RECORD_ID', 'geometry']]"
   ]
  },
  {
   "cell_type": "code",
   "execution_count": 6,
   "metadata": {},
   "outputs": [],
   "source": [
    "df_pop = df_pop[['TRACT', 'POP2004', 'SHAPE_Length', 'SHAPE_Area', 'geometry']]"
   ]
  },
  {
   "cell_type": "markdown",
   "metadata": {},
   "source": [
    "### View API Data"
   ]
  },
  {
   "cell_type": "code",
   "execution_count": 7,
   "metadata": {},
   "outputs": [
    {
     "data": {
      "text/html": [
       "<div>\n",
       "<style scoped>\n",
       "    .dataframe tbody tr th:only-of-type {\n",
       "        vertical-align: middle;\n",
       "    }\n",
       "\n",
       "    .dataframe tbody tr th {\n",
       "        vertical-align: top;\n",
       "    }\n",
       "\n",
       "    .dataframe thead th {\n",
       "        text-align: right;\n",
       "    }\n",
       "</style>\n",
       "<table border=\"1\" class=\"dataframe\">\n",
       "  <thead>\n",
       "    <tr style=\"text-align: right;\">\n",
       "      <th></th>\n",
       "      <th>CCN</th>\n",
       "      <th>START_DATE</th>\n",
       "      <th>END_DATE</th>\n",
       "      <th>REPORT_DAT</th>\n",
       "      <th>SHIFT</th>\n",
       "      <th>WARD</th>\n",
       "      <th>CENSUS_TRACT</th>\n",
       "      <th>BLOCK</th>\n",
       "      <th>OFFENSE</th>\n",
       "      <th>METHOD</th>\n",
       "      <th>LATITUDE</th>\n",
       "      <th>LONGITUDE</th>\n",
       "      <th>OBJECTID</th>\n",
       "      <th>OCTO_RECORD_ID</th>\n",
       "      <th>geometry</th>\n",
       "    </tr>\n",
       "  </thead>\n",
       "  <tbody>\n",
       "    <tr>\n",
       "      <th>0</th>\n",
       "      <td>19185375</td>\n",
       "      <td>2019-10-16T19:19:05</td>\n",
       "      <td>2019-10-16T20:57:17</td>\n",
       "      <td>2019-10-16T22:09:03</td>\n",
       "      <td>EVENING</td>\n",
       "      <td>2</td>\n",
       "      <td>005800</td>\n",
       "      <td>800 - 899 BLOCK OF 8TH STREET NW</td>\n",
       "      <td>THEFT F/AUTO</td>\n",
       "      <td>OTHERS</td>\n",
       "      <td>38.900337</td>\n",
       "      <td>-77.022953</td>\n",
       "      <td>353185569</td>\n",
       "      <td>19185375-01</td>\n",
       "      <td>POINT (-77.02296 38.90035)</td>\n",
       "    </tr>\n",
       "    <tr>\n",
       "      <th>1</th>\n",
       "      <td>19185377</td>\n",
       "      <td>2019-10-16T21:19:00</td>\n",
       "      <td>2019-10-16T21:20:53</td>\n",
       "      <td>2019-10-16T22:36:34</td>\n",
       "      <td>EVENING</td>\n",
       "      <td>2</td>\n",
       "      <td>010100</td>\n",
       "      <td>1400 - 1419 BLOCK OF L STREET NW</td>\n",
       "      <td>ROBBERY</td>\n",
       "      <td>OTHERS</td>\n",
       "      <td>38.903731</td>\n",
       "      <td>-77.032523</td>\n",
       "      <td>353185570</td>\n",
       "      <td>19185377-01</td>\n",
       "      <td>POINT (-77.03253 38.90374)</td>\n",
       "    </tr>\n",
       "    <tr>\n",
       "      <th>2</th>\n",
       "      <td>19185387</td>\n",
       "      <td>2019-10-16T21:47:29</td>\n",
       "      <td>None</td>\n",
       "      <td>2019-10-16T22:53:34</td>\n",
       "      <td>EVENING</td>\n",
       "      <td>2</td>\n",
       "      <td>010100</td>\n",
       "      <td>718 - 799 BLOCK OF 15TH STREET NW</td>\n",
       "      <td>THEFT/OTHER</td>\n",
       "      <td>OTHERS</td>\n",
       "      <td>38.899488</td>\n",
       "      <td>-77.033651</td>\n",
       "      <td>353185571</td>\n",
       "      <td>19185387-01</td>\n",
       "      <td>POINT (-77.03365 38.89950)</td>\n",
       "    </tr>\n",
       "    <tr>\n",
       "      <th>3</th>\n",
       "      <td>19185400</td>\n",
       "      <td>2019-10-16T13:57:43</td>\n",
       "      <td>2019-10-16T14:01:26</td>\n",
       "      <td>2019-10-16T22:36:28</td>\n",
       "      <td>EVENING</td>\n",
       "      <td>5</td>\n",
       "      <td>009509</td>\n",
       "      <td>4921 - 4999 BLOCK OF SARGENT ROAD NE</td>\n",
       "      <td>THEFT/OTHER</td>\n",
       "      <td>OTHERS</td>\n",
       "      <td>38.949840</td>\n",
       "      <td>-76.989537</td>\n",
       "      <td>353185572</td>\n",
       "      <td>19185400-01</td>\n",
       "      <td>POINT (-76.98954 38.94985)</td>\n",
       "    </tr>\n",
       "    <tr>\n",
       "      <th>4</th>\n",
       "      <td>19185407</td>\n",
       "      <td>2019-10-16T18:00:41</td>\n",
       "      <td>2019-10-16T23:28:44</td>\n",
       "      <td>2019-10-17T11:22:32</td>\n",
       "      <td>DAY</td>\n",
       "      <td>2</td>\n",
       "      <td>005800</td>\n",
       "      <td>700 - 799 BLOCK OF 6TH STREET NW</td>\n",
       "      <td>THEFT F/AUTO</td>\n",
       "      <td>OTHERS</td>\n",
       "      <td>38.899059</td>\n",
       "      <td>-77.019909</td>\n",
       "      <td>353185573</td>\n",
       "      <td>19185407-01</td>\n",
       "      <td>POINT (-77.01991 38.89907)</td>\n",
       "    </tr>\n",
       "  </tbody>\n",
       "</table>\n",
       "</div>"
      ],
      "text/plain": [
       "        CCN           START_DATE             END_DATE           REPORT_DAT  \\\n",
       "0  19185375  2019-10-16T19:19:05  2019-10-16T20:57:17  2019-10-16T22:09:03   \n",
       "1  19185377  2019-10-16T21:19:00  2019-10-16T21:20:53  2019-10-16T22:36:34   \n",
       "2  19185387  2019-10-16T21:47:29                 None  2019-10-16T22:53:34   \n",
       "3  19185400  2019-10-16T13:57:43  2019-10-16T14:01:26  2019-10-16T22:36:28   \n",
       "4  19185407  2019-10-16T18:00:41  2019-10-16T23:28:44  2019-10-17T11:22:32   \n",
       "\n",
       "     SHIFT WARD CENSUS_TRACT                                 BLOCK  \\\n",
       "0  EVENING    2       005800      800 - 899 BLOCK OF 8TH STREET NW   \n",
       "1  EVENING    2       010100      1400 - 1419 BLOCK OF L STREET NW   \n",
       "2  EVENING    2       010100     718 - 799 BLOCK OF 15TH STREET NW   \n",
       "3  EVENING    5       009509  4921 - 4999 BLOCK OF SARGENT ROAD NE   \n",
       "4      DAY    2       005800      700 - 799 BLOCK OF 6TH STREET NW   \n",
       "\n",
       "        OFFENSE  METHOD   LATITUDE  LONGITUDE   OBJECTID OCTO_RECORD_ID  \\\n",
       "0  THEFT F/AUTO  OTHERS  38.900337 -77.022953  353185569    19185375-01   \n",
       "1       ROBBERY  OTHERS  38.903731 -77.032523  353185570    19185377-01   \n",
       "2   THEFT/OTHER  OTHERS  38.899488 -77.033651  353185571    19185387-01   \n",
       "3   THEFT/OTHER  OTHERS  38.949840 -76.989537  353185572    19185400-01   \n",
       "4  THEFT F/AUTO  OTHERS  38.899059 -77.019909  353185573    19185407-01   \n",
       "\n",
       "                     geometry  \n",
       "0  POINT (-77.02296 38.90035)  \n",
       "1  POINT (-77.03253 38.90374)  \n",
       "2  POINT (-77.03365 38.89950)  \n",
       "3  POINT (-76.98954 38.94985)  \n",
       "4  POINT (-77.01991 38.89907)  "
      ]
     },
     "execution_count": 7,
     "metadata": {},
     "output_type": "execute_result"
    }
   ],
   "source": [
    "df_crime.head()"
   ]
  },
  {
   "cell_type": "code",
   "execution_count": 10,
   "metadata": {},
   "outputs": [
    {
     "data": {
      "image/png": "[encoded data removed]",
      "text/plain": [
       "<Figure size 864x576 with 1 Axes>"
      ]
     },
     "metadata": {
      "needs_background": "light"
     },
     "output_type": "display_data"
    }
   ],
   "source": [
    "sns.catplot(x='CENSUS_TRACT', hue='OFFENSE', kind='count', height=8, aspect=1.5, \n",
    "            order=df_crime.CENSUS_TRACT.value_counts().index, data=df_crime, legend=False)\n",
    "plt.xticks(size=10, rotation=-45)\n",
    "plt.yticks(size=10)\n",
    "plt.xlabel('Neighborhood', fontsize=15)\n",
    "plt.ylabel('Count', fontsize=15)\n",
    "plt.show()"
   ]
  },
  {
   "cell_type": "code",
   "execution_count": 8,
   "metadata": {},
   "outputs": [
    {
     "data": {
      "text/html": [
       "<div>\n",
       "<style scoped>\n",
       "    .dataframe tbody tr th:only-of-type {\n",
       "        vertical-align: middle;\n",
       "    }\n",
       "\n",
       "    .dataframe tbody tr th {\n",
       "        vertical-align: top;\n",
       "    }\n",
       "\n",
       "    .dataframe thead th {\n",
       "        text-align: right;\n",
       "    }\n",
       "</style>\n",
       "<table border=\"1\" class=\"dataframe\">\n",
       "  <thead>\n",
       "    <tr style=\"text-align: right;\">\n",
       "      <th></th>\n",
       "      <th>CENSUS_TRACT</th>\n",
       "      <th>OFFENSE</th>\n",
       "    </tr>\n",
       "  </thead>\n",
       "  <tbody>\n",
       "    <tr>\n",
       "      <th>0</th>\n",
       "      <td>000100</td>\n",
       "      <td>436</td>\n",
       "    </tr>\n",
       "    <tr>\n",
       "      <th>1</th>\n",
       "      <td>000201</td>\n",
       "      <td>26</td>\n",
       "    </tr>\n",
       "    <tr>\n",
       "      <th>2</th>\n",
       "      <td>000202</td>\n",
       "      <td>458</td>\n",
       "    </tr>\n",
       "    <tr>\n",
       "      <th>3</th>\n",
       "      <td>000300</td>\n",
       "      <td>120</td>\n",
       "    </tr>\n",
       "    <tr>\n",
       "      <th>4</th>\n",
       "      <td>000400</td>\n",
       "      <td>30</td>\n",
       "    </tr>\n",
       "  </tbody>\n",
       "</table>\n",
       "</div>"
      ],
      "text/plain": [
       "  CENSUS_TRACT  OFFENSE\n",
       "0       000100      436\n",
       "1       000201       26\n",
       "2       000202      458\n",
       "3       000300      120\n",
       "4       000400       30"
      ]
     },
     "execution_count": 8,
     "metadata": {},
     "output_type": "execute_result"
    }
   ],
   "source": [
    "df_crime_grouped = pd.DataFrame(df_crime.groupby(['CENSUS_TRACT']).count())[['OFFENSE']]\n",
    "df_crime_grouped = df_crime_grouped.reset_index()\n",
    "df_crime_grouped.head()"
   ]
  },
  {
   "cell_type": "code",
   "execution_count": 11,
   "metadata": {},
   "outputs": [
    {
     "data": {
      "text/html": [
       "<div>\n",
       "<style scoped>\n",
       "    .dataframe tbody tr th:only-of-type {\n",
       "        vertical-align: middle;\n",
       "    }\n",
       "\n",
       "    .dataframe tbody tr th {\n",
       "        vertical-align: top;\n",
       "    }\n",
       "\n",
       "    .dataframe thead th {\n",
       "        text-align: right;\n",
       "    }\n",
       "</style>\n",
       "<table border=\"1\" class=\"dataframe\">\n",
       "  <thead>\n",
       "    <tr style=\"text-align: right;\">\n",
       "      <th></th>\n",
       "      <th>TRACT</th>\n",
       "      <th>POP2004</th>\n",
       "      <th>SHAPE_Length</th>\n",
       "      <th>SHAPE_Area</th>\n",
       "      <th>geometry</th>\n",
       "    </tr>\n",
       "  </thead>\n",
       "  <tbody>\n",
       "    <tr>\n",
       "      <th>0</th>\n",
       "      <td>004801</td>\n",
       "      <td>524</td>\n",
       "      <td>1549.303075</td>\n",
       "      <td>136470.056374</td>\n",
       "      <td>POLYGON ((-77.01683 38.91113, -77.01722 38.911...</td>\n",
       "    </tr>\n",
       "    <tr>\n",
       "      <th>1</th>\n",
       "      <td>000100</td>\n",
       "      <td>1287</td>\n",
       "      <td>2168.617509</td>\n",
       "      <td>199324.533422</td>\n",
       "      <td>POLYGON ((-77.05015 38.90964, -77.05042 38.909...</td>\n",
       "    </tr>\n",
       "    <tr>\n",
       "      <th>2</th>\n",
       "      <td>005500</td>\n",
       "      <td>2242</td>\n",
       "      <td>2661.234403</td>\n",
       "      <td>218310.004833</td>\n",
       "      <td>POLYGON ((-77.04391 38.90915, -77.04395 38.909...</td>\n",
       "    </tr>\n",
       "    <tr>\n",
       "      <th>3</th>\n",
       "      <td>005401</td>\n",
       "      <td>1424</td>\n",
       "      <td>2550.412186</td>\n",
       "      <td>298641.736253</td>\n",
       "      <td>POLYGON ((-77.04359 38.90904, -77.04366 38.909...</td>\n",
       "    </tr>\n",
       "    <tr>\n",
       "      <th>4</th>\n",
       "      <td>004902</td>\n",
       "      <td>902</td>\n",
       "      <td>1184.212998</td>\n",
       "      <td>65740.853727</td>\n",
       "      <td>POLYGON ((-77.02192 38.90858, -77.02215 38.908...</td>\n",
       "    </tr>\n",
       "  </tbody>\n",
       "</table>\n",
       "</div>"
      ],
      "text/plain": [
       "    TRACT  POP2004  SHAPE_Length     SHAPE_Area  \\\n",
       "0  004801      524   1549.303075  136470.056374   \n",
       "1  000100     1287   2168.617509  199324.533422   \n",
       "2  005500     2242   2661.234403  218310.004833   \n",
       "3  005401     1424   2550.412186  298641.736253   \n",
       "4  004902      902   1184.212998   65740.853727   \n",
       "\n",
       "                                            geometry  \n",
       "0  POLYGON ((-77.01683 38.91113, -77.01722 38.911...  \n",
       "1  POLYGON ((-77.05015 38.90964, -77.05042 38.909...  \n",
       "2  POLYGON ((-77.04391 38.90915, -77.04395 38.909...  \n",
       "3  POLYGON ((-77.04359 38.90904, -77.04366 38.909...  \n",
       "4  POLYGON ((-77.02192 38.90858, -77.02215 38.908...  "
      ]
     },
     "execution_count": 11,
     "metadata": {},
     "output_type": "execute_result"
    }
   ],
   "source": [
    "df_pop.head()"
   ]
  },
  {
   "cell_type": "code",
   "execution_count": 12,
   "metadata": {},
   "outputs": [
    {
     "data": {
      "text/plain": [
       "<matplotlib.axes._subplots.AxesSubplot at 0x10dd8d5f8>"
      ]
     },
     "execution_count": 12,
     "metadata": {},
     "output_type": "execute_result"
    },
    {
     "data": {
      "image/png": "[encoded data removed]",
      "text/plain": [
       "<Figure size 432x288 with 1 Axes>"
      ]
     },
     "metadata": {
      "needs_background": "light"
     },
     "output_type": "display_data"
    }
   ],
   "source": [
    "df_pop.plot()"
   ]
  },
  {
   "cell_type": "markdown",
   "metadata": {},
   "source": [
    "### Combine Datasets"
   ]
  },
  {
   "cell_type": "code",
   "execution_count": 19,
   "metadata": {},
   "outputs": [
    {
     "data": {
      "text/html": [
       "<div>\n",
       "<style scoped>\n",
       "    .dataframe tbody tr th:only-of-type {\n",
       "        vertical-align: middle;\n",
       "    }\n",
       "\n",
       "    .dataframe tbody tr th {\n",
       "        vertical-align: top;\n",
       "    }\n",
       "\n",
       "    .dataframe thead th {\n",
       "        text-align: right;\n",
       "    }\n",
       "</style>\n",
       "<table border=\"1\" class=\"dataframe\">\n",
       "  <thead>\n",
       "    <tr style=\"text-align: right;\">\n",
       "      <th></th>\n",
       "      <th>CENSUS_TRACT</th>\n",
       "      <th>TotalOffenses</th>\n",
       "      <th>POP2004</th>\n",
       "      <th>SHAPE_Length</th>\n",
       "      <th>SHAPE_Area</th>\n",
       "      <th>geometry</th>\n",
       "    </tr>\n",
       "  </thead>\n",
       "  <tbody>\n",
       "    <tr>\n",
       "      <th>0</th>\n",
       "      <td>000100</td>\n",
       "      <td>436</td>\n",
       "      <td>1287</td>\n",
       "      <td>2168.617509</td>\n",
       "      <td>1.993245e+05</td>\n",
       "      <td>POLYGON ((-77.05015 38.90964, -77.05042 38.909...</td>\n",
       "    </tr>\n",
       "    <tr>\n",
       "      <th>1</th>\n",
       "      <td>000100</td>\n",
       "      <td>436</td>\n",
       "      <td>1254</td>\n",
       "      <td>4330.579470</td>\n",
       "      <td>8.111499e+05</td>\n",
       "      <td>POLYGON ((-77.05909 38.91832, -77.05933 38.918...</td>\n",
       "    </tr>\n",
       "    <tr>\n",
       "      <th>2</th>\n",
       "      <td>000100</td>\n",
       "      <td>436</td>\n",
       "      <td>1077</td>\n",
       "      <td>1874.896086</td>\n",
       "      <td>1.943296e+05</td>\n",
       "      <td>POLYGON ((-77.05714 38.91055, -77.05739 38.910...</td>\n",
       "    </tr>\n",
       "    <tr>\n",
       "      <th>3</th>\n",
       "      <td>000100</td>\n",
       "      <td>436</td>\n",
       "      <td>1009</td>\n",
       "      <td>6570.185341</td>\n",
       "      <td>1.162966e+06</td>\n",
       "      <td>POLYGON ((-77.05549 38.90526, -77.05573 38.905...</td>\n",
       "    </tr>\n",
       "    <tr>\n",
       "      <th>4</th>\n",
       "      <td>000201</td>\n",
       "      <td>26</td>\n",
       "      <td>4472</td>\n",
       "      <td>3237.651164</td>\n",
       "      <td>5.424962e+05</td>\n",
       "      <td>POLYGON ((-77.07642 38.91265, -77.07747 38.912...</td>\n",
       "    </tr>\n",
       "  </tbody>\n",
       "</table>\n",
       "</div>"
      ],
      "text/plain": [
       "  CENSUS_TRACT  TotalOffenses  POP2004  SHAPE_Length    SHAPE_Area  \\\n",
       "0       000100            436     1287   2168.617509  1.993245e+05   \n",
       "1       000100            436     1254   4330.579470  8.111499e+05   \n",
       "2       000100            436     1077   1874.896086  1.943296e+05   \n",
       "3       000100            436     1009   6570.185341  1.162966e+06   \n",
       "4       000201             26     4472   3237.651164  5.424962e+05   \n",
       "\n",
       "                                            geometry  \n",
       "0  POLYGON ((-77.05015 38.90964, -77.05042 38.909...  \n",
       "1  POLYGON ((-77.05909 38.91832, -77.05933 38.918...  \n",
       "2  POLYGON ((-77.05714 38.91055, -77.05739 38.910...  \n",
       "3  POLYGON ((-77.05549 38.90526, -77.05573 38.905...  \n",
       "4  POLYGON ((-77.07642 38.91265, -77.07747 38.912...  "
      ]
     },
     "execution_count": 19,
     "metadata": {},
     "output_type": "execute_result"
    }
   ],
   "source": [
    "crime_pop = df_crime_grouped.merge(df_pop, left_on = 'CENSUS_TRACT', right_on = 'TRACT')\n",
    "crime_pop = crime_pop.drop(['TRACT'], axis=1)\n",
    "crime_pop = crime_pop.rename(columns={'OFFENSE': 'TotalOffenses'})\n",
    "crime_pop.head()"
   ]
  },
  {
   "cell_type": "code",
   "execution_count": null,
   "metadata": {},
   "outputs": [],
   "source": []
  }
 ],
 "metadata": {
  "kernelspec": {
   "display_name": "Python 3",
   "language": "python",
   "name": "python3"
  },
  "language_info": {
   "codemirror_mode": {
    "name": "ipython",
    "version": 3
   },
   "file_extension": ".py",
   "mimetype": "text/x-python",
   "name": "python",
   "nbconvert_exporter": "python",
   "pygments_lexer": "ipython3",
   "version": "3.7.3"
  }
 },
 "nbformat": 4,
 "nbformat_minor": 2
}
