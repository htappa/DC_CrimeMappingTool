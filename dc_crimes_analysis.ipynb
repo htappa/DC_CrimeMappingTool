{
 "cells": [
  {
   "cell_type": "markdown",
   "metadata": {},
   "source": [
    "# **Crime Risk in DC - Analysis**"
   ]
  },
  {
   "cell_type": "markdown",
   "metadata": {},
   "source": [
    "### Packages"
   ]
  },
  {
   "cell_type": "code",
   "execution_count": null,
   "metadata": {},
   "outputs": [],
   "source": [
    "import requests\n",
    "import json\n",
    "import pandas as pd\n",
    "import geopandas as gpd\n",
    "import seaborn as sns\n",
    "import matplotlib.pyplot as plt\n",
    "\n",
    "pd.set_option('display.max_columns', 100)"
   ]
  },
  {
   "cell_type": "markdown",
   "metadata": {},
   "source": [
    "### Read in API data (2017-2019)"
   ]
  },
  {
   "cell_type": "markdown",
   "metadata": {},
   "source": [
    "Below is the crime incident data for 2017-2019 from OpenDataDC (https://opendata.dc.gov/). There is a seperate API for each year, so the code below reads in the data, converts it into dataframes and concatenates them."
   ]
  },
  {
   "cell_type": "code",
   "execution_count": null,
   "metadata": {},
   "outputs": [],
   "source": [
    "url_crime_2017 = 'https://opendata.arcgis.com/datasets/6af5cb8dc38e4bcbac8168b27ee104aa_38.geojson'\n",
    "df_crime_2017 = pd.read_csv(url_crime_2017)"
   ]
  },
  {
   "cell_type": "code",
   "execution_count": null,
   "metadata": {},
   "outputs": [],
   "source": [
    "df_crime_2017.head()"
   ]
  },
  {
   "cell_type": "code",
   "execution_count": null,
   "metadata": {},
   "outputs": [],
   "source": [
    "url_crime_2018 = 'https://opendata.arcgis.com/datasets/38ba41dd74354563bce28a359b59324e_0.geojson'\n",
    "df_crime_2018 = pd.read_csv(url_crime_2018)"
   ]
  },
  {
   "cell_type": "code",
   "execution_count": null,
   "metadata": {},
   "outputs": [],
   "source": [
    "url_crime_2019 = 'https://opendata.arcgis.com/datasets/f08294e5286141c293e9202fcd3e8b57_1.geojson'\n",
    "# df_crime_2019 = pd.read_csv(url_crime_2019)"
   ]
  },
  {
   "cell_type": "code",
   "execution_count": null,
   "metadata": {},
   "outputs": [],
   "source": [
    "df_crime_2019 = pd.read_csv(url_crime_2019)"
   ]
  },
  {
   "cell_type": "code",
   "execution_count": null,
   "metadata": {},
   "outputs": [],
   "source": [
    "df_crime = pd.concat([df_crime_2017, df_crime_2018, df_crime_2019])"
   ]
  },
  {
   "cell_type": "code",
   "execution_count": null,
   "metadata": {},
   "outputs": [],
   "source": [
    "# url_pop = 'https://opendata.arcgis.com/datasets/c143846b7bf4438c954c5bb28e5d1a21_2.geojson'\n",
    "# df_pop = gpd.read_file(url_pop)"
   ]
  },
  {
   "cell_type": "markdown",
   "metadata": {},
   "source": [
    "### Clean API Data"
   ]
  },
  {
   "cell_type": "markdown",
   "metadata": {},
   "source": [
    "Remove unnecessary columns form the dataframe."
   ]
  },
  {
   "cell_type": "code",
   "execution_count": null,
   "metadata": {},
   "outputs": [],
   "source": [
    "df_crime = df_crime[['CCN', 'START_DATE', 'END_DATE', 'REPORT_DAT', 'SHIFT', 'WARD', 'BLOCK_GROUP', 'CENSUS_TRACT', \n",
    "                     'BLOCK', 'OFFENSE', 'METHOD', 'LATITUDE', 'LONGITUDE']]"
   ]
  },
  {
   "cell_type": "code",
   "execution_count": null,
   "metadata": {},
   "outputs": [],
   "source": [
    "# df_pop = df_pop[['TRACT', 'BLKGRP', 'P0010001', 'SHAPE_Length', 'SHAPE_Area', 'geometry']]\n",
    "# df_pop = df_pop.rename(columns={'P0010001': 'Population'})"
   ]
  },
  {
   "cell_type": "code",
   "execution_count": null,
   "metadata": {},
   "outputs": [],
   "source": [
    "df_crime.head()"
   ]
  },
  {
   "cell_type": "markdown",
   "metadata": {},
   "source": [
    "### Visualizations"
   ]
  },
  {
   "cell_type": "markdown",
   "metadata": {},
   "source": [
    "The below visualizations are for the purposes of exploratory data analysis."
   ]
  },
  {
   "cell_type": "code",
   "execution_count": null,
   "metadata": {},
   "outputs": [],
   "source": [
    "# number of crimes by year\n",
    "\n",
    "# year_df = pd.DataFrame(df.YEAR.value_counts())\n",
    "# year_df = year_df.rename(columns={\"YEAR\": \"Year\"})\n",
    "# year_df"
   ]
  },
  {
   "cell_type": "code",
   "execution_count": null,
   "metadata": {},
   "outputs": [],
   "source": [
    "# categorical plot for count of offense type\n",
    "\n",
    "color = ['#0033cc']\n",
    "sns.catplot(y='OFFENSE', kind='count', height=8, aspect=1.5, order=df_crime.OFFENSE.value_counts().index, \n",
    "            data=df_crime, palette=sns.color_palette(color))\n",
    "\n",
    "plt.title('Total Crimes by Offense Type', fontsize=20)\n",
    "plt.xticks(size=10)\n",
    "plt.yticks(size=10)\n",
    "plt.xlabel('Count', fontsize=15)\n",
    "plt.ylabel('Offense Type', fontsize=15)"
   ]
  },
  {
   "cell_type": "code",
   "execution_count": null,
   "metadata": {},
   "outputs": [],
   "source": [
    "# type of weapon used in attack\n",
    "\n",
    "method_df = pd.DataFrame(df_crime.METHOD.value_counts())\n",
    "method_df = method_df.rename(columns={'METHOD': 'Weapon Used'})\n",
    "#method_df = method_df.reset_index()\n",
    "s = pd.Series([1, 2, 3])\n",
    "method_df.set_index(s)\n",
    "\n",
    "#method_pie = method_df.plot.pie(y='Weapon Used', figsize=(7, 7))\n",
    "# # Create a pie chart\n",
    "# plt.pie(\n",
    "#     # using data total)arrests\n",
    "#     method_df['Weapon Used'],\n",
    "#     # with the labels being officer names\n",
    "#     labels=method_df['index'],\n",
    "#     # with no shadows\n",
    "#     shadow=False,\n",
    "#     # with one slide exploded out\n",
    "#     explode=(0.15, 0, 0),\n",
    "#     # with the start angle at 90%\n",
    "#     startangle=90,\n",
    "#     )\n",
    "\n",
    "# # View the plot drop above\n",
    "# plt.axis('equal')\n",
    "\n",
    "# # View the plot\n",
    "# plt.tight_layout()\n",
    "# plt.show()\n",
    "method_df"
   ]
  },
  {
   "cell_type": "code",
   "execution_count": null,
   "metadata": {},
   "outputs": [],
   "source": [
    "# categorical plot for count of total crimes by neighborhood and time of day\n",
    "\n",
    "sns.catplot(x='BID', hue='SHIFT', kind='count', height=8, aspect=1.5, order=df.BID.value_counts().index, \n",
    "            data=df, legend=False)\n",
    "\n",
    "plt.title('Total Crimes by Neighborhood and Time of Day', fontsize=20)\n",
    "\n",
    "plt.xticks(size=10, rotation=90)\n",
    "plt.yticks(size=10)\n",
    "plt.xlabel('Neighborhood', fontsize=15)\n",
    "plt.ylabel('Count', fontsize=15)\n",
    "plt.legend(title='Time of Day', loc='right')"
   ]
  },
  {
   "cell_type": "code",
   "execution_count": null,
   "metadata": {},
   "outputs": [],
   "source": [
    "# number of crimes by ward\n",
    "\n",
    "ward_df = pd.DataFrame(df.WARD.value_counts())\n",
    "ward_df = ward_df.rename(columns={\"WARD\": \"Ward\"})\n",
    "ward_df"
   ]
  },
  {
   "cell_type": "code",
   "execution_count": null,
   "metadata": {},
   "outputs": [],
   "source": [
    "# categorical plot for count of total crimes by ward and time of day\n",
    "\n",
    "sns.catplot(x='WARD', hue='SHIFT', kind='count', height=8, aspect=1.5, order=df.WARD.value_counts().index, \n",
    "            data=df, legend=False)\n",
    "\n",
    "plt.title('Total Crimes by Ward and Time of Day', fontsize=20)\n",
    "\n",
    "plt.xticks(size=10)\n",
    "plt.yticks(size=10)\n",
    "plt.xlabel('Ward', fontsize=15)\n",
    "plt.ylabel('Count', fontsize=15)\n",
    "plt.legend(title='Time of Day', loc='right')"
   ]
  },
  {
   "cell_type": "markdown",
   "metadata": {},
   "source": [
    "#### Tableau map of crimes by ward"
   ]
  },
  {
   "cell_type": "code",
   "execution_count": null,
   "metadata": {},
   "outputs": [],
   "source": [
    "# %%HTML \n",
    "\n",
    "# <div class='tableauPlaceholder' id='viz1570313986891' style='position: relative'>\n",
    "#     <noscript>\n",
    "#         <a href='#'>\n",
    "#             <img alt=' ' src='https:&#47;&#47;public.tableau.com&#47;static&#47;images&#47;dc&#47;dc_crimes_map&#47;DCCrimesbyWard2017-2019&#47;1_rss.png' style='border: none' />\n",
    "#         </a>\n",
    "#     </noscript>\n",
    "#     <object class='tableauViz'  style='display:none;'>\n",
    "#         <param name='host_url' value='https%3A%2F%2Fpublic.tableau.com%2F' /> \n",
    "#         <param name='embed_code_version' value='3' /> \n",
    "#         <param name='site_root' value='' />\n",
    "#         <param name='name' value='dc_crimes_map&#47;DCCrimesbyWard2017-2019' />\n",
    "#         <param name='tabs' value='no' />\n",
    "#         <param name='toolbar' value='yes' />\n",
    "#         <param name='static_image' value='https:&#47;&#47;public.tableau.com&#47;static&#47;images&#47;dc&#47;dc_crimes_map&#47;DCCrimesbyWard2017-2019&#47;1.png' /> \n",
    "#         <param name='animate_transition' value='yes' />\n",
    "#         <param name='display_static_image' value='yes' />\n",
    "#         <param name='display_spinner' value='yes' />\n",
    "#         <param name='display_overlay' value='yes' />\n",
    "#         <param name='display_count' value='yes' />\n",
    "#         <param name='filter' value='publish=yes' />\n",
    "#     </object>              \n",
    "#     <script type='text/javascript'>                    \n",
    "#         var divElement = document.getElementById('viz1570313986891');                    \n",
    "#         var vizElement = divElement.getElementsByTagName('object')[0];                    \n",
    "#         vizElement.style.width='100%';vizElement.style.height=(divElement.offsetWidth*0.75)+'px';                    \n",
    "#         var scriptElement = document.createElement('script');                    \n",
    "#         scriptElement.src = 'https://public.tableau.com/javascripts/api/viz_v1.js';                    \n",
    "#         vizElement.parentNode.insertBefore(scriptElement, vizElement);                \n",
    "#     </script>\n",
    "# </div>"
   ]
  },
  {
   "cell_type": "code",
   "execution_count": null,
   "metadata": {},
   "outputs": [],
   "source": []
  }
 ],
 "metadata": {
  "kernelspec": {
   "display_name": "Python 3",
   "language": "python",
   "name": "python3"
  },
  "language_info": {
   "codemirror_mode": {
    "name": "ipython",
    "version": 3
   },
   "file_extension": ".py",
   "mimetype": "text/x-python",
   "name": "python",
   "nbconvert_exporter": "python",
   "pygments_lexer": "ipython3",
   "version": "3.7.4"
  }
 },
 "nbformat": 4,
 "nbformat_minor": 4
}
