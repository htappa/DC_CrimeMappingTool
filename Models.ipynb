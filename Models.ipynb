{
 "cells": [
  {
   "cell_type": "markdown",
   "metadata": {},
   "source": [
    "# **Crime Risk in DC**"
   ]
  },
  {
   "cell_type": "markdown",
   "metadata": {},
   "source": [
    "### Packages"
   ]
  },
  {
   "cell_type": "code",
   "execution_count": 1,
   "metadata": {},
   "outputs": [],
   "source": [
    "import requests\n",
    "import json\n",
    "import pandas as pd\n",
    "import seaborn as sns\n",
    "import matplotlib.pyplot as plt\n",
    "import geopandas as gpd\n",
    "import shapely\n",
    "from descartes import PolygonPatch\n",
    "\n",
    "pd.set_option('display.max_columns', 50)"
   ]
  },
  {
   "cell_type": "markdown",
   "metadata": {},
   "source": [
    "### Read in API data (2019)\n",
    "Crime Incidents API Website: https://opendata.dc.gov/datasets/crime-incidents-in-2019/geoservice  \n",
    "Population API Website: https://opendata.dc.gov/datasets/census-block-groups-by-2004-population"
   ]
  },
  {
   "cell_type": "code",
   "execution_count": 2,
   "metadata": {},
   "outputs": [],
   "source": [
    "url_crime = 'https://opendata.arcgis.com/datasets/f08294e5286141c293e9202fcd3e8b57_1.geojson'\n",
    "df_crime = gpd.read_file(url_crime)"
   ]
  },
  {
   "cell_type": "code",
   "execution_count": 3,
   "metadata": {},
   "outputs": [],
   "source": [
    "url_pop = 'https://opendata.arcgis.com/datasets/c070badb329040cd8db25b0de3ab1efb_4.geojson'\n",
    "df_pop = gpd.read_file(url_pop)"
   ]
  },
  {
   "cell_type": "markdown",
   "metadata": {},
   "source": [
    "### Clean API Data"
   ]
  },
  {
   "cell_type": "code",
   "execution_count": 6,
   "metadata": {},
   "outputs": [],
   "source": [
    "df_crime = df_crime[['CCN', 'START_DATE', 'END_DATE', 'REPORT_DAT', 'SHIFT', 'WARD', 'CENSUS_TRACT', 'BLOCK', 'OFFENSE', \n",
    "                     'METHOD', 'LATITUDE', 'LONGITUDE', 'OBJECTID', 'OCTO_RECORD_ID', 'geometry']]"
   ]
  },
  {
   "cell_type": "code",
   "execution_count": 7,
   "metadata": {},
   "outputs": [],
   "source": [
    "df_pop = df_pop[['TRACT', 'POP2004', 'SHAPE_Length', 'SHAPE_Area', 'geometry']]"
   ]
  },
  {
   "cell_type": "markdown",
   "metadata": {},
   "source": [
    "### View API Data"
   ]
  },
  {
   "cell_type": "code",
   "execution_count": 8,
   "metadata": {},
   "outputs": [
    {
     "data": {
      "text/html": [
       "<div>\n",
       "<style scoped>\n",
       "    .dataframe tbody tr th:only-of-type {\n",
       "        vertical-align: middle;\n",
       "    }\n",
       "\n",
       "    .dataframe tbody tr th {\n",
       "        vertical-align: top;\n",
       "    }\n",
       "\n",
       "    .dataframe thead th {\n",
       "        text-align: right;\n",
       "    }\n",
       "</style>\n",
       "<table border=\"1\" class=\"dataframe\">\n",
       "  <thead>\n",
       "    <tr style=\"text-align: right;\">\n",
       "      <th></th>\n",
       "      <th>CCN</th>\n",
       "      <th>START_DATE</th>\n",
       "      <th>END_DATE</th>\n",
       "      <th>REPORT_DAT</th>\n",
       "      <th>SHIFT</th>\n",
       "      <th>WARD</th>\n",
       "      <th>CENSUS_TRACT</th>\n",
       "      <th>BLOCK</th>\n",
       "      <th>OFFENSE</th>\n",
       "      <th>METHOD</th>\n",
       "      <th>LATITUDE</th>\n",
       "      <th>LONGITUDE</th>\n",
       "      <th>OBJECTID</th>\n",
       "      <th>OCTO_RECORD_ID</th>\n",
       "      <th>geometry</th>\n",
       "    </tr>\n",
       "  </thead>\n",
       "  <tbody>\n",
       "    <tr>\n",
       "      <th>0</th>\n",
       "      <td>19135319</td>\n",
       "      <td>2019-07-31T13:20:26</td>\n",
       "      <td>2019-07-31T13:27:46</td>\n",
       "      <td>2019-08-01T19:06:02</td>\n",
       "      <td>EVENING</td>\n",
       "      <td>2</td>\n",
       "      <td>005201</td>\n",
       "      <td>1500 - 1523 BLOCK OF 15TH STREET NW</td>\n",
       "      <td>THEFT/OTHER</td>\n",
       "      <td>OTHERS</td>\n",
       "      <td>38.910009</td>\n",
       "      <td>-77.034566</td>\n",
       "      <td>351553743</td>\n",
       "      <td>19135319-01</td>\n",
       "      <td>POINT (-77.03457 38.91002)</td>\n",
       "    </tr>\n",
       "    <tr>\n",
       "      <th>1</th>\n",
       "      <td>19135324</td>\n",
       "      <td>2019-08-01T18:41:08</td>\n",
       "      <td>2019-08-01T18:42:20</td>\n",
       "      <td>2019-08-01T18:50:23</td>\n",
       "      <td>EVENING</td>\n",
       "      <td>6</td>\n",
       "      <td>004701</td>\n",
       "      <td>1100 - 1199 BLOCK OF 1ST PLACE NW</td>\n",
       "      <td>MOTOR VEHICLE THEFT</td>\n",
       "      <td>OTHERS</td>\n",
       "      <td>38.905087</td>\n",
       "      <td>-77.010272</td>\n",
       "      <td>351553744</td>\n",
       "      <td>19135324-01</td>\n",
       "      <td>POINT (-77.01027 38.90509)</td>\n",
       "    </tr>\n",
       "    <tr>\n",
       "      <th>2</th>\n",
       "      <td>19135327</td>\n",
       "      <td>2019-07-28T22:00:48</td>\n",
       "      <td>2019-08-01T18:15:00</td>\n",
       "      <td>2019-08-01T20:15:19</td>\n",
       "      <td>EVENING</td>\n",
       "      <td>6</td>\n",
       "      <td>010600</td>\n",
       "      <td>1 - 98 BLOCK OF NEW YORK AVENUE NE</td>\n",
       "      <td>THEFT F/AUTO</td>\n",
       "      <td>OTHERS</td>\n",
       "      <td>38.907897</td>\n",
       "      <td>-77.007471</td>\n",
       "      <td>351553745</td>\n",
       "      <td>19135327-01</td>\n",
       "      <td>POINT (-77.00747 38.90791)</td>\n",
       "    </tr>\n",
       "    <tr>\n",
       "      <th>3</th>\n",
       "      <td>19135341</td>\n",
       "      <td>2019-08-01T17:10:36</td>\n",
       "      <td>2019-08-01T17:11:15</td>\n",
       "      <td>2019-08-01T20:20:06</td>\n",
       "      <td>EVENING</td>\n",
       "      <td>6</td>\n",
       "      <td>006500</td>\n",
       "      <td>400 - 499 BLOCK OF 3RD STREET SE</td>\n",
       "      <td>ROBBERY</td>\n",
       "      <td>GUN</td>\n",
       "      <td>38.883746</td>\n",
       "      <td>-77.002052</td>\n",
       "      <td>351553746</td>\n",
       "      <td>19135341-01</td>\n",
       "      <td>POINT (-77.00205 38.88375)</td>\n",
       "    </tr>\n",
       "    <tr>\n",
       "      <th>4</th>\n",
       "      <td>19135342</td>\n",
       "      <td>2019-07-31T17:00:40</td>\n",
       "      <td>2019-08-01T06:30:46</td>\n",
       "      <td>2019-08-01T20:28:18</td>\n",
       "      <td>EVENING</td>\n",
       "      <td>8</td>\n",
       "      <td>010400</td>\n",
       "      <td>3300 - 3399 BLOCK OF BROTHERS PLACE SE</td>\n",
       "      <td>THEFT F/AUTO</td>\n",
       "      <td>OTHERS</td>\n",
       "      <td>38.842938</td>\n",
       "      <td>-77.003513</td>\n",
       "      <td>351553747</td>\n",
       "      <td>19135342-01</td>\n",
       "      <td>POINT (-77.00352 38.84295)</td>\n",
       "    </tr>\n",
       "  </tbody>\n",
       "</table>\n",
       "</div>"
      ],
      "text/plain": [
       "        CCN           START_DATE             END_DATE           REPORT_DAT  \\\n",
       "0  19135319  2019-07-31T13:20:26  2019-07-31T13:27:46  2019-08-01T19:06:02   \n",
       "1  19135324  2019-08-01T18:41:08  2019-08-01T18:42:20  2019-08-01T18:50:23   \n",
       "2  19135327  2019-07-28T22:00:48  2019-08-01T18:15:00  2019-08-01T20:15:19   \n",
       "3  19135341  2019-08-01T17:10:36  2019-08-01T17:11:15  2019-08-01T20:20:06   \n",
       "4  19135342  2019-07-31T17:00:40  2019-08-01T06:30:46  2019-08-01T20:28:18   \n",
       "\n",
       "     SHIFT WARD CENSUS_TRACT                                   BLOCK  \\\n",
       "0  EVENING    2       005201     1500 - 1523 BLOCK OF 15TH STREET NW   \n",
       "1  EVENING    6       004701       1100 - 1199 BLOCK OF 1ST PLACE NW   \n",
       "2  EVENING    6       010600      1 - 98 BLOCK OF NEW YORK AVENUE NE   \n",
       "3  EVENING    6       006500        400 - 499 BLOCK OF 3RD STREET SE   \n",
       "4  EVENING    8       010400  3300 - 3399 BLOCK OF BROTHERS PLACE SE   \n",
       "\n",
       "               OFFENSE  METHOD   LATITUDE  LONGITUDE   OBJECTID  \\\n",
       "0          THEFT/OTHER  OTHERS  38.910009 -77.034566  351553743   \n",
       "1  MOTOR VEHICLE THEFT  OTHERS  38.905087 -77.010272  351553744   \n",
       "2         THEFT F/AUTO  OTHERS  38.907897 -77.007471  351553745   \n",
       "3              ROBBERY     GUN  38.883746 -77.002052  351553746   \n",
       "4         THEFT F/AUTO  OTHERS  38.842938 -77.003513  351553747   \n",
       "\n",
       "  OCTO_RECORD_ID                    geometry  \n",
       "0    19135319-01  POINT (-77.03457 38.91002)  \n",
       "1    19135324-01  POINT (-77.01027 38.90509)  \n",
       "2    19135327-01  POINT (-77.00747 38.90791)  \n",
       "3    19135341-01  POINT (-77.00205 38.88375)  \n",
       "4    19135342-01  POINT (-77.00352 38.84295)  "
      ]
     },
     "execution_count": 8,
     "metadata": {},
     "output_type": "execute_result"
    }
   ],
   "source": [
    "df_crime.head()"
   ]
  },
  {
   "cell_type": "code",
   "execution_count": 22,
   "metadata": {},
   "outputs": [
    {
     "data": {
      "text/html": [
       "<div>\n",
       "<style scoped>\n",
       "    .dataframe tbody tr th:only-of-type {\n",
       "        vertical-align: middle;\n",
       "    }\n",
       "\n",
       "    .dataframe tbody tr th {\n",
       "        vertical-align: top;\n",
       "    }\n",
       "\n",
       "    .dataframe thead th {\n",
       "        text-align: right;\n",
       "    }\n",
       "</style>\n",
       "<table border=\"1\" class=\"dataframe\">\n",
       "  <thead>\n",
       "    <tr style=\"text-align: right;\">\n",
       "      <th></th>\n",
       "      <th>OFFENSE</th>\n",
       "    </tr>\n",
       "    <tr>\n",
       "      <th>CENSUS_TRACT</th>\n",
       "      <th></th>\n",
       "    </tr>\n",
       "  </thead>\n",
       "  <tbody>\n",
       "    <tr>\n",
       "      <th>000100</th>\n",
       "      <td>430</td>\n",
       "    </tr>\n",
       "    <tr>\n",
       "      <th>000201</th>\n",
       "      <td>25</td>\n",
       "    </tr>\n",
       "    <tr>\n",
       "      <th>000202</th>\n",
       "      <td>450</td>\n",
       "    </tr>\n",
       "    <tr>\n",
       "      <th>000300</th>\n",
       "      <td>119</td>\n",
       "    </tr>\n",
       "    <tr>\n",
       "      <th>000400</th>\n",
       "      <td>30</td>\n",
       "    </tr>\n",
       "  </tbody>\n",
       "</table>\n",
       "</div>"
      ],
      "text/plain": [
       "              OFFENSE\n",
       "CENSUS_TRACT         \n",
       "000100            430\n",
       "000201             25\n",
       "000202            450\n",
       "000300            119\n",
       "000400             30"
      ]
     },
     "execution_count": 22,
     "metadata": {},
     "output_type": "execute_result"
    }
   ],
   "source": [
    "df_crime_grouped = pd.DataFrame(df_crime.groupby(['CENSUS_TRACT']).count())[['OFFENSE']]\n",
    "df_crime_grouped.head()"
   ]
  },
  {
   "cell_type": "code",
   "execution_count": 24,
   "metadata": {},
   "outputs": [
    {
     "data": {
      "text/plain": [
       "<matplotlib.axes._subplots.AxesSubplot at 0x107e16d68>"
      ]
     },
     "execution_count": 24,
     "metadata": {},
     "output_type": "execute_result"
    },
    {
     "data": {
      "image/png": "[encoded data removed]",
      "text/plain": [
       "<Figure size 432x288 with 1 Axes>"
      ]
     },
     "metadata": {
      "needs_background": "light"
     },
     "output_type": "display_data"
    }
   ],
   "source": [
    "df_crime_grouped.plot()"
   ]
  },
  {
   "cell_type": "code",
   "execution_count": 10,
   "metadata": {},
   "outputs": [
    {
     "data": {
      "text/html": [
       "<div>\n",
       "<style scoped>\n",
       "    .dataframe tbody tr th:only-of-type {\n",
       "        vertical-align: middle;\n",
       "    }\n",
       "\n",
       "    .dataframe tbody tr th {\n",
       "        vertical-align: top;\n",
       "    }\n",
       "\n",
       "    .dataframe thead th {\n",
       "        text-align: right;\n",
       "    }\n",
       "</style>\n",
       "<table border=\"1\" class=\"dataframe\">\n",
       "  <thead>\n",
       "    <tr style=\"text-align: right;\">\n",
       "      <th></th>\n",
       "      <th>TRACT</th>\n",
       "      <th>POP2004</th>\n",
       "      <th>SHAPE_Length</th>\n",
       "      <th>SHAPE_Area</th>\n",
       "      <th>geometry</th>\n",
       "    </tr>\n",
       "  </thead>\n",
       "  <tbody>\n",
       "    <tr>\n",
       "      <th>0</th>\n",
       "      <td>004801</td>\n",
       "      <td>524</td>\n",
       "      <td>1549.303075</td>\n",
       "      <td>136470.056374</td>\n",
       "      <td>POLYGON ((-77.01683 38.91113, -77.01722 38.911...</td>\n",
       "    </tr>\n",
       "    <tr>\n",
       "      <th>1</th>\n",
       "      <td>000100</td>\n",
       "      <td>1287</td>\n",
       "      <td>2168.617509</td>\n",
       "      <td>199324.533422</td>\n",
       "      <td>POLYGON ((-77.05015 38.90964, -77.05042 38.909...</td>\n",
       "    </tr>\n",
       "    <tr>\n",
       "      <th>2</th>\n",
       "      <td>005500</td>\n",
       "      <td>2242</td>\n",
       "      <td>2661.234403</td>\n",
       "      <td>218310.004833</td>\n",
       "      <td>POLYGON ((-77.04391 38.90915, -77.04395 38.909...</td>\n",
       "    </tr>\n",
       "    <tr>\n",
       "      <th>3</th>\n",
       "      <td>005401</td>\n",
       "      <td>1424</td>\n",
       "      <td>2550.412186</td>\n",
       "      <td>298641.736253</td>\n",
       "      <td>POLYGON ((-77.04359 38.90904, -77.04366 38.909...</td>\n",
       "    </tr>\n",
       "    <tr>\n",
       "      <th>4</th>\n",
       "      <td>004902</td>\n",
       "      <td>902</td>\n",
       "      <td>1184.212998</td>\n",
       "      <td>65740.853727</td>\n",
       "      <td>POLYGON ((-77.02192 38.90858, -77.02215 38.908...</td>\n",
       "    </tr>\n",
       "  </tbody>\n",
       "</table>\n",
       "</div>"
      ],
      "text/plain": [
       "    TRACT  POP2004  SHAPE_Length     SHAPE_Area  \\\n",
       "0  004801      524   1549.303075  136470.056374   \n",
       "1  000100     1287   2168.617509  199324.533422   \n",
       "2  005500     2242   2661.234403  218310.004833   \n",
       "3  005401     1424   2550.412186  298641.736253   \n",
       "4  004902      902   1184.212998   65740.853727   \n",
       "\n",
       "                                            geometry  \n",
       "0  POLYGON ((-77.01683 38.91113, -77.01722 38.911...  \n",
       "1  POLYGON ((-77.05015 38.90964, -77.05042 38.909...  \n",
       "2  POLYGON ((-77.04391 38.90915, -77.04395 38.909...  \n",
       "3  POLYGON ((-77.04359 38.90904, -77.04366 38.909...  \n",
       "4  POLYGON ((-77.02192 38.90858, -77.02215 38.908...  "
      ]
     },
     "execution_count": 10,
     "metadata": {},
     "output_type": "execute_result"
    }
   ],
   "source": [
    "df_pop.head()"
   ]
  },
  {
   "cell_type": "code",
   "execution_count": 11,
   "metadata": {},
   "outputs": [
    {
     "data": {
      "text/plain": [
       "<matplotlib.axes._subplots.AxesSubplot at 0x1070aff60>"
      ]
     },
     "execution_count": 11,
     "metadata": {},
     "output_type": "execute_result"
    },
    {
     "data": {
      "image/png": "[encoded data removed]",
      "text/plain": [
       "<Figure size 432x288 with 1 Axes>"
      ]
     },
     "metadata": {
      "needs_background": "light"
     },
     "output_type": "display_data"
    }
   ],
   "source": [
    "df_pop.plot()"
   ]
  },
  {
   "cell_type": "code",
   "execution_count": null,
   "metadata": {},
   "outputs": [],
   "source": []
  },
  {
   "cell_type": "code",
   "execution_count": null,
   "metadata": {},
   "outputs": [],
   "source": []
  },
  {
   "cell_type": "markdown",
   "metadata": {},
   "source": [
    "### Read in CSV data (2017-2019)"
   ]
  },
  {
   "cell_type": "code",
   "execution_count": null,
   "metadata": {},
   "outputs": [],
   "source": [
    "df = pd.read_csv('data/dc-crimes-search-results.csv')\n",
    "pd.set_option('display.max_columns', 50)"
   ]
  },
  {
   "cell_type": "markdown",
   "metadata": {},
   "source": [
    "### Clean CSV Data"
   ]
  },
  {
   "cell_type": "code",
   "execution_count": null,
   "metadata": {},
   "outputs": [],
   "source": [
    "columns_remove = ['XBLOCK', 'YBLOCK', 'ANC', 'DISTRICT', 'PSA', 'NEIGHBORHOOD_CLUSTER', 'BLOCK_GROUP', 'VOTING_PRECINCT', \n",
    "                  'BID']\n",
    "\n",
    "df = df.drop(columns_remove, axis=1)\n",
    "\n",
    "df = df[['CCN', 'START_DATE', 'END_DATE', 'REPORT_DAT', 'SHIFT', 'WARD', 'BLOCK', 'OFFENSE', 'LATITUDE', 'LONGITUDE']]"
   ]
  },
  {
   "cell_type": "code",
   "execution_count": null,
   "metadata": {},
   "outputs": [],
   "source": [
    "df.head()"
   ]
  },
  {
   "cell_type": "markdown",
   "metadata": {},
   "source": [
    "#### Number of crimes by year"
   ]
  },
  {
   "cell_type": "code",
   "execution_count": null,
   "metadata": {},
   "outputs": [],
   "source": [
    "year_df = pd.DataFrame(df.YEAR.value_counts())\n",
    "year_df = year_df.rename(columns={\"YEAR\": \"Year\"})\n",
    "year_df"
   ]
  },
  {
   "cell_type": "markdown",
   "metadata": {},
   "source": [
    "#### Categorical plot for count of offense type"
   ]
  },
  {
   "cell_type": "code",
   "execution_count": null,
   "metadata": {},
   "outputs": [],
   "source": [
    "color = ['#0033cc']\n",
    "sns.catplot(y='OFFENSE', kind='count', height=8, aspect=1.5, order=df.OFFENSE.value_counts().index, \n",
    "            data=df, palette=sns.color_palette(color))\n",
    "\n",
    "plt.title('Total Crimes by Offense Type', fontsize=20)\n",
    "plt.xticks(size=10)\n",
    "plt.yticks(size=10)\n",
    "plt.xlabel('Count', fontsize=15)\n",
    "plt.ylabel('Offense Type', fontsize=15)"
   ]
  },
  {
   "cell_type": "markdown",
   "metadata": {},
   "source": [
    "#### Type of weapon used in attack"
   ]
  },
  {
   "cell_type": "code",
   "execution_count": null,
   "metadata": {},
   "outputs": [],
   "source": [
    "method_df = pd.DataFrame(df.METHOD.value_counts())\n",
    "method_df = method_df.rename(columns={\"METHOD\": \"Weapon Used\"})\n",
    "method_df"
   ]
  },
  {
   "cell_type": "markdown",
   "metadata": {},
   "source": [
    "### Categorical plot for count of total crimes by neighborhood and time of day"
   ]
  },
  {
   "cell_type": "code",
   "execution_count": null,
   "metadata": {},
   "outputs": [],
   "source": [
    "sns.catplot(x='BID', hue='SHIFT', kind='count', height=8, aspect=1.5, order=df.BID.value_counts().index, \n",
    "            data=df, legend=False)\n",
    "\n",
    "plt.title('Total Crimes by Neighborhood and Time of Day', fontsize=20)\n",
    "\n",
    "plt.xticks(size=10, rotation=90)\n",
    "plt.yticks(size=10)\n",
    "plt.xlabel('Neighborhood', fontsize=15)\n",
    "plt.ylabel('Count', fontsize=15)\n",
    "plt.legend(title='Time of Day', loc='right')"
   ]
  },
  {
   "cell_type": "markdown",
   "metadata": {},
   "source": [
    "#### Number of Crimes by Ward"
   ]
  },
  {
   "cell_type": "code",
   "execution_count": null,
   "metadata": {},
   "outputs": [],
   "source": [
    "ward_df = pd.DataFrame(df.WARD.value_counts())\n",
    "ward_df = ward_df.rename(columns={\"WARD\": \"Ward\"})\n",
    "ward_df"
   ]
  },
  {
   "cell_type": "markdown",
   "metadata": {},
   "source": [
    "#### Categorical plot for count of total crimes by ward and time of day"
   ]
  },
  {
   "cell_type": "code",
   "execution_count": null,
   "metadata": {},
   "outputs": [],
   "source": [
    "sns.catplot(x='WARD', hue='SHIFT', kind='count', height=8, aspect=1.5, order=df.WARD.value_counts().index, \n",
    "            data=df, legend=False)\n",
    "\n",
    "plt.title('Total Crimes by Ward and Time of Day', fontsize=20)\n",
    "\n",
    "plt.xticks(size=10)\n",
    "plt.yticks(size=10)\n",
    "plt.xlabel('Ward', fontsize=15)\n",
    "plt.ylabel('Count', fontsize=15)\n",
    "plt.legend(title='Time of Day', loc='right')"
   ]
  },
  {
   "cell_type": "markdown",
   "metadata": {},
   "source": [
    "#### Tableau map of crimes by ward"
   ]
  },
  {
   "cell_type": "code",
   "execution_count": null,
   "metadata": {},
   "outputs": [],
   "source": [
    "%%HTML \n",
    "\n",
    "<div class='tableauPlaceholder' id='viz1570313986891' style='position: relative'>\n",
    "    <noscript>\n",
    "        <a href='#'>\n",
    "            <img alt=' ' src='https:&#47;&#47;public.tableau.com&#47;static&#47;images&#47;dc&#47;dc_crimes_map&#47;DCCrimesbyWard2017-2019&#47;1_rss.png' style='border: none' />\n",
    "        </a>\n",
    "    </noscript>\n",
    "    <object class='tableauViz'  style='display:none;'>\n",
    "        <param name='host_url' value='https%3A%2F%2Fpublic.tableau.com%2F' /> \n",
    "        <param name='embed_code_version' value='3' /> \n",
    "        <param name='site_root' value='' />\n",
    "        <param name='name' value='dc_crimes_map&#47;DCCrimesbyWard2017-2019' />\n",
    "        <param name='tabs' value='no' />\n",
    "        <param name='toolbar' value='yes' />\n",
    "        <param name='static_image' value='https:&#47;&#47;public.tableau.com&#47;static&#47;images&#47;dc&#47;dc_crimes_map&#47;DCCrimesbyWard2017-2019&#47;1.png' /> \n",
    "        <param name='animate_transition' value='yes' />\n",
    "        <param name='display_static_image' value='yes' />\n",
    "        <param name='display_spinner' value='yes' />\n",
    "        <param name='display_overlay' value='yes' />\n",
    "        <param name='display_count' value='yes' />\n",
    "        <param name='filter' value='publish=yes' />\n",
    "    </object>              \n",
    "    <script type='text/javascript'>                    \n",
    "        var divElement = document.getElementById('viz1570313986891');                    \n",
    "        var vizElement = divElement.getElementsByTagName('object')[0];                    \n",
    "        vizElement.style.width='100%';vizElement.style.height=(divElement.offsetWidth*0.75)+'px';                    \n",
    "        var scriptElement = document.createElement('script');                    \n",
    "        scriptElement.src = 'https://public.tableau.com/javascripts/api/viz_v1.js';                    \n",
    "        vizElement.parentNode.insertBefore(scriptElement, vizElement);                \n",
    "    </script>\n",
    "</div>  "
   ]
  }
 ],
 "metadata": {
  "kernelspec": {
   "display_name": "Python 3",
   "language": "python",
   "name": "python3"
  },
  "language_info": {
   "codemirror_mode": {
    "name": "ipython",
    "version": 3
   },
   "file_extension": ".py",
   "mimetype": "text/x-python",
   "name": "python",
   "nbconvert_exporter": "python",
   "pygments_lexer": "ipython3",
   "version": "3.7.3"
  }
 },
 "nbformat": 4,
 "nbformat_minor": 2
}
